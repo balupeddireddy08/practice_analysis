{
  "nbformat": 4,
  "nbformat_minor": 0,
  "metadata": {
    "colab": {
      "provenance": []
    },
    "kernelspec": {
      "name": "python3",
      "display_name": "Python 3"
    },
    "language_info": {
      "name": "python"
    }
  },
  "cells": [
    {
      "cell_type": "code",
      "execution_count": 1,
      "metadata": {
        "colab": {
          "base_uri": "https://localhost:8080/"
        },
        "id": "f3A5BFo8utBh",
        "outputId": "b4432f38-f8c7-403a-a3ab-96aae2697187"
      },
      "outputs": [
        {
          "output_type": "stream",
          "name": "stdout",
          "text": [
            "Requirement already satisfied: geopy in /usr/local/lib/python3.10/dist-packages (2.4.1)\n",
            "Requirement already satisfied: geographiclib<3,>=1.52 in /usr/local/lib/python3.10/dist-packages (from geopy) (2.0)\n"
          ]
        }
      ],
      "source": [
        "pip install geopy"
      ]
    },
    {
      "cell_type": "code",
      "source": [
        "from geopy.geocoders import Nominatim\n",
        "\n",
        "# Initialize the geolocator\n",
        "geolocator = Nominatim(user_agent=\"geoapiExercises\")\n",
        "\n",
        "# Coordinates you want to reverse geocode\n",
        "latitude = 12.971598\n",
        "longitude = 77.594566\n",
        "\n",
        "# Perform reverse geocoding\n",
        "location = geolocator.reverse((latitude, longitude), exactly_one=True)\n",
        "\n",
        "# Print the address\n",
        "if location:\n",
        "    print(location.address)\n",
        "else:\n",
        "    print(\"Address not found\")\n"
      ],
      "metadata": {
        "colab": {
          "base_uri": "https://localhost:8080/",
          "height": 408
        },
        "id": "2J8Pdj7xvjEM",
        "outputId": "08ef8124-3ec1-4337-a674-a5c82e681afe"
      },
      "execution_count": 2,
      "outputs": [
        {
          "output_type": "error",
          "ename": "GeocoderInsufficientPrivileges",
          "evalue": "Non-successful status code 403",
          "traceback": [
            "\u001b[0;31m---------------------------------------------------------------------------\u001b[0m",
            "\u001b[0;31mAdapterHTTPError\u001b[0m                          Traceback (most recent call last)",
            "\u001b[0;32m/usr/local/lib/python3.10/dist-packages/geopy/geocoders/base.py\u001b[0m in \u001b[0;36m_call_geocoder\u001b[0;34m(self, url, callback, timeout, is_json, headers)\u001b[0m\n\u001b[1;32m    367\u001b[0m             \u001b[0;32mif\u001b[0m \u001b[0mis_json\u001b[0m\u001b[0;34m:\u001b[0m\u001b[0;34m\u001b[0m\u001b[0;34m\u001b[0m\u001b[0m\n\u001b[0;32m--> 368\u001b[0;31m                 \u001b[0mresult\u001b[0m \u001b[0;34m=\u001b[0m \u001b[0mself\u001b[0m\u001b[0;34m.\u001b[0m\u001b[0madapter\u001b[0m\u001b[0;34m.\u001b[0m\u001b[0mget_json\u001b[0m\u001b[0;34m(\u001b[0m\u001b[0murl\u001b[0m\u001b[0;34m,\u001b[0m \u001b[0mtimeout\u001b[0m\u001b[0;34m=\u001b[0m\u001b[0mtimeout\u001b[0m\u001b[0;34m,\u001b[0m \u001b[0mheaders\u001b[0m\u001b[0;34m=\u001b[0m\u001b[0mreq_headers\u001b[0m\u001b[0;34m)\u001b[0m\u001b[0;34m\u001b[0m\u001b[0;34m\u001b[0m\u001b[0m\n\u001b[0m\u001b[1;32m    369\u001b[0m             \u001b[0;32melse\u001b[0m\u001b[0;34m:\u001b[0m\u001b[0;34m\u001b[0m\u001b[0;34m\u001b[0m\u001b[0m\n",
            "\u001b[0;32m/usr/local/lib/python3.10/dist-packages/geopy/adapters.py\u001b[0m in \u001b[0;36mget_json\u001b[0;34m(self, url, timeout, headers)\u001b[0m\n\u001b[1;32m    471\u001b[0m     \u001b[0;32mdef\u001b[0m \u001b[0mget_json\u001b[0m\u001b[0;34m(\u001b[0m\u001b[0mself\u001b[0m\u001b[0;34m,\u001b[0m \u001b[0murl\u001b[0m\u001b[0;34m,\u001b[0m \u001b[0;34m*\u001b[0m\u001b[0;34m,\u001b[0m \u001b[0mtimeout\u001b[0m\u001b[0;34m,\u001b[0m \u001b[0mheaders\u001b[0m\u001b[0;34m)\u001b[0m\u001b[0;34m:\u001b[0m\u001b[0;34m\u001b[0m\u001b[0;34m\u001b[0m\u001b[0m\n\u001b[0;32m--> 472\u001b[0;31m         \u001b[0mresp\u001b[0m \u001b[0;34m=\u001b[0m \u001b[0mself\u001b[0m\u001b[0;34m.\u001b[0m\u001b[0m_request\u001b[0m\u001b[0;34m(\u001b[0m\u001b[0murl\u001b[0m\u001b[0;34m,\u001b[0m \u001b[0mtimeout\u001b[0m\u001b[0;34m=\u001b[0m\u001b[0mtimeout\u001b[0m\u001b[0;34m,\u001b[0m \u001b[0mheaders\u001b[0m\u001b[0;34m=\u001b[0m\u001b[0mheaders\u001b[0m\u001b[0;34m)\u001b[0m\u001b[0;34m\u001b[0m\u001b[0;34m\u001b[0m\u001b[0m\n\u001b[0m\u001b[1;32m    473\u001b[0m         \u001b[0;32mtry\u001b[0m\u001b[0;34m:\u001b[0m\u001b[0;34m\u001b[0m\u001b[0;34m\u001b[0m\u001b[0m\n",
            "\u001b[0;32m/usr/local/lib/python3.10/dist-packages/geopy/adapters.py\u001b[0m in \u001b[0;36m_request\u001b[0;34m(self, url, timeout, headers)\u001b[0m\n\u001b[1;32m    499\u001b[0m             \u001b[0;32mif\u001b[0m \u001b[0mresp\u001b[0m\u001b[0;34m.\u001b[0m\u001b[0mstatus_code\u001b[0m \u001b[0;34m>=\u001b[0m \u001b[0;36m400\u001b[0m\u001b[0;34m:\u001b[0m\u001b[0;34m\u001b[0m\u001b[0;34m\u001b[0m\u001b[0m\n\u001b[0;32m--> 500\u001b[0;31m                 raise AdapterHTTPError(\n\u001b[0m\u001b[1;32m    501\u001b[0m                     \u001b[0;34m\"Non-successful status code %s\"\u001b[0m \u001b[0;34m%\u001b[0m \u001b[0mresp\u001b[0m\u001b[0;34m.\u001b[0m\u001b[0mstatus_code\u001b[0m\u001b[0;34m,\u001b[0m\u001b[0;34m\u001b[0m\u001b[0;34m\u001b[0m\u001b[0m\n",
            "\u001b[0;31mAdapterHTTPError\u001b[0m: Non-successful status code 403",
            "\nThe above exception was the direct cause of the following exception:\n",
            "\u001b[0;31mGeocoderInsufficientPrivileges\u001b[0m            Traceback (most recent call last)",
            "\u001b[0;32m<ipython-input-2-961fc75ca63d>\u001b[0m in \u001b[0;36m<cell line: 11>\u001b[0;34m()\u001b[0m\n\u001b[1;32m      9\u001b[0m \u001b[0;34m\u001b[0m\u001b[0m\n\u001b[1;32m     10\u001b[0m \u001b[0;31m# Perform reverse geocoding\u001b[0m\u001b[0;34m\u001b[0m\u001b[0;34m\u001b[0m\u001b[0m\n\u001b[0;32m---> 11\u001b[0;31m \u001b[0mlocation\u001b[0m \u001b[0;34m=\u001b[0m \u001b[0mgeolocator\u001b[0m\u001b[0;34m.\u001b[0m\u001b[0mreverse\u001b[0m\u001b[0;34m(\u001b[0m\u001b[0;34m(\u001b[0m\u001b[0mlatitude\u001b[0m\u001b[0;34m,\u001b[0m \u001b[0mlongitude\u001b[0m\u001b[0;34m)\u001b[0m\u001b[0;34m,\u001b[0m \u001b[0mexactly_one\u001b[0m\u001b[0;34m=\u001b[0m\u001b[0;32mTrue\u001b[0m\u001b[0;34m)\u001b[0m\u001b[0;34m\u001b[0m\u001b[0;34m\u001b[0m\u001b[0m\n\u001b[0m\u001b[1;32m     12\u001b[0m \u001b[0;34m\u001b[0m\u001b[0m\n\u001b[1;32m     13\u001b[0m \u001b[0;31m# Print the address\u001b[0m\u001b[0;34m\u001b[0m\u001b[0;34m\u001b[0m\u001b[0m\n",
            "\u001b[0;32m/usr/local/lib/python3.10/dist-packages/geopy/geocoders/nominatim.py\u001b[0m in \u001b[0;36mreverse\u001b[0;34m(self, query, exactly_one, timeout, language, addressdetails, zoom, namedetails)\u001b[0m\n\u001b[1;32m    370\u001b[0m         \u001b[0mlogger\u001b[0m\u001b[0;34m.\u001b[0m\u001b[0mdebug\u001b[0m\u001b[0;34m(\u001b[0m\u001b[0;34m\"%s.reverse: %s\"\u001b[0m\u001b[0;34m,\u001b[0m \u001b[0mself\u001b[0m\u001b[0;34m.\u001b[0m\u001b[0m__class__\u001b[0m\u001b[0;34m.\u001b[0m\u001b[0m__name__\u001b[0m\u001b[0;34m,\u001b[0m \u001b[0murl\u001b[0m\u001b[0;34m)\u001b[0m\u001b[0;34m\u001b[0m\u001b[0;34m\u001b[0m\u001b[0m\n\u001b[1;32m    371\u001b[0m         \u001b[0mcallback\u001b[0m \u001b[0;34m=\u001b[0m \u001b[0mpartial\u001b[0m\u001b[0;34m(\u001b[0m\u001b[0mself\u001b[0m\u001b[0;34m.\u001b[0m\u001b[0m_parse_json\u001b[0m\u001b[0;34m,\u001b[0m \u001b[0mexactly_one\u001b[0m\u001b[0;34m=\u001b[0m\u001b[0mexactly_one\u001b[0m\u001b[0;34m)\u001b[0m\u001b[0;34m\u001b[0m\u001b[0;34m\u001b[0m\u001b[0m\n\u001b[0;32m--> 372\u001b[0;31m         \u001b[0;32mreturn\u001b[0m \u001b[0mself\u001b[0m\u001b[0;34m.\u001b[0m\u001b[0m_call_geocoder\u001b[0m\u001b[0;34m(\u001b[0m\u001b[0murl\u001b[0m\u001b[0;34m,\u001b[0m \u001b[0mcallback\u001b[0m\u001b[0;34m,\u001b[0m \u001b[0mtimeout\u001b[0m\u001b[0;34m=\u001b[0m\u001b[0mtimeout\u001b[0m\u001b[0;34m)\u001b[0m\u001b[0;34m\u001b[0m\u001b[0;34m\u001b[0m\u001b[0m\n\u001b[0m\u001b[1;32m    373\u001b[0m \u001b[0;34m\u001b[0m\u001b[0m\n\u001b[1;32m    374\u001b[0m     \u001b[0;32mdef\u001b[0m \u001b[0m_parse_code\u001b[0m\u001b[0;34m(\u001b[0m\u001b[0mself\u001b[0m\u001b[0;34m,\u001b[0m \u001b[0mplace\u001b[0m\u001b[0;34m)\u001b[0m\u001b[0;34m:\u001b[0m\u001b[0;34m\u001b[0m\u001b[0;34m\u001b[0m\u001b[0m\n",
            "\u001b[0;32m/usr/local/lib/python3.10/dist-packages/geopy/geocoders/base.py\u001b[0m in \u001b[0;36m_call_geocoder\u001b[0;34m(self, url, callback, timeout, is_json, headers)\u001b[0m\n\u001b[1;32m    386\u001b[0m                 \u001b[0;32mreturn\u001b[0m \u001b[0mcallback\u001b[0m\u001b[0;34m(\u001b[0m\u001b[0mresult\u001b[0m\u001b[0;34m)\u001b[0m\u001b[0;34m\u001b[0m\u001b[0;34m\u001b[0m\u001b[0m\n\u001b[1;32m    387\u001b[0m         \u001b[0;32mexcept\u001b[0m \u001b[0mException\u001b[0m \u001b[0;32mas\u001b[0m \u001b[0merror\u001b[0m\u001b[0;34m:\u001b[0m\u001b[0;34m\u001b[0m\u001b[0;34m\u001b[0m\u001b[0m\n\u001b[0;32m--> 388\u001b[0;31m             \u001b[0mres\u001b[0m \u001b[0;34m=\u001b[0m \u001b[0mself\u001b[0m\u001b[0;34m.\u001b[0m\u001b[0m_adapter_error_handler\u001b[0m\u001b[0;34m(\u001b[0m\u001b[0merror\u001b[0m\u001b[0;34m)\u001b[0m\u001b[0;34m\u001b[0m\u001b[0;34m\u001b[0m\u001b[0m\n\u001b[0m\u001b[1;32m    389\u001b[0m             \u001b[0;32mif\u001b[0m \u001b[0mres\u001b[0m \u001b[0;32mis\u001b[0m \u001b[0mNONE_RESULT\u001b[0m\u001b[0;34m:\u001b[0m\u001b[0;34m\u001b[0m\u001b[0;34m\u001b[0m\u001b[0m\n\u001b[1;32m    390\u001b[0m                 \u001b[0;32mreturn\u001b[0m \u001b[0;32mNone\u001b[0m\u001b[0;34m\u001b[0m\u001b[0;34m\u001b[0m\u001b[0m\n",
            "\u001b[0;32m/usr/local/lib/python3.10/dist-packages/geopy/geocoders/base.py\u001b[0m in \u001b[0;36m_adapter_error_handler\u001b[0;34m(self, error)\u001b[0m\n\u001b[1;32m    409\u001b[0m                 ) from error\n\u001b[1;32m    410\u001b[0m             \u001b[0;32melse\u001b[0m\u001b[0;34m:\u001b[0m\u001b[0;34m\u001b[0m\u001b[0;34m\u001b[0m\u001b[0m\n\u001b[0;32m--> 411\u001b[0;31m                 \u001b[0;32mraise\u001b[0m \u001b[0mexc_cls\u001b[0m\u001b[0;34m(\u001b[0m\u001b[0mstr\u001b[0m\u001b[0;34m(\u001b[0m\u001b[0merror\u001b[0m\u001b[0;34m)\u001b[0m\u001b[0;34m)\u001b[0m \u001b[0;32mfrom\u001b[0m \u001b[0merror\u001b[0m\u001b[0;34m\u001b[0m\u001b[0;34m\u001b[0m\u001b[0m\n\u001b[0m\u001b[1;32m    412\u001b[0m         \u001b[0;32melse\u001b[0m\u001b[0;34m:\u001b[0m\u001b[0;34m\u001b[0m\u001b[0;34m\u001b[0m\u001b[0m\n\u001b[1;32m    413\u001b[0m             \u001b[0mres\u001b[0m \u001b[0;34m=\u001b[0m \u001b[0mself\u001b[0m\u001b[0;34m.\u001b[0m\u001b[0m_geocoder_exception_handler\u001b[0m\u001b[0;34m(\u001b[0m\u001b[0merror\u001b[0m\u001b[0;34m)\u001b[0m\u001b[0;34m\u001b[0m\u001b[0;34m\u001b[0m\u001b[0m\n",
            "\u001b[0;31mGeocoderInsufficientPrivileges\u001b[0m: Non-successful status code 403"
          ]
        }
      ]
    },
    {
      "cell_type": "code",
      "source": [
        "from geopy.geocoders import Nominatim\n",
        "import time\n",
        "\n",
        "# Initialize the geolocator with a more descriptive User-Agent\n",
        "geolocator = Nominatim(user_agent=\"my-geocoding-app/1.0\") # More descriptive User-Agent\n",
        "\n",
        "# Coordinates you want to reverse geocode\n",
        "latitude = 12.971598\n",
        "longitude = 77.594566\n",
        "\n",
        "# Perform reverse geocoding\n",
        "try:\n",
        "    location = geolocator.reverse((latitude, longitude), exactly_one=True)\n",
        "    # Print the address\n",
        "    if location:\n",
        "        print(location.address)\n",
        "    else:\n",
        "        print(\"Address not found\")\n",
        "\n",
        "except GeocoderInsufficientPrivileges:\n",
        "    print(\"HTTP Error 403: Check your User-Agent and rate limits.\")\n",
        "except Exception as e:\n",
        "    print(\"An error occurred:\", e)\n",
        "\n",
        "time.sleep(1) # Wait for 1 second to avoid rate limiting"
      ],
      "metadata": {
        "colab": {
          "base_uri": "https://localhost:8080/"
        },
        "id": "r8Bs2kcmvnny",
        "outputId": "c512dcd2-82f1-4be6-a761-265e9e69ab6d"
      },
      "execution_count": 3,
      "outputs": [
        {
          "output_type": "stream",
          "name": "stdout",
          "text": [
            "St. Joseph's Indian High School, Vittal Mallya Road, D'Souza Layout, Shanthala Nagar, Bengaluru, Bangalore North, Bengaluru Urban, Karnataka, 560001, India\n"
          ]
        }
      ]
    },
    {
      "cell_type": "code",
      "source": [
        "pip install geopy pandas tqdm"
      ],
      "metadata": {
        "colab": {
          "base_uri": "https://localhost:8080/"
        },
        "id": "IxB6V1VkvtTx",
        "outputId": "ee38e5f9-4505-46c6-c008-4d03362bce2f"
      },
      "execution_count": 4,
      "outputs": [
        {
          "output_type": "stream",
          "name": "stdout",
          "text": [
            "Requirement already satisfied: geopy in /usr/local/lib/python3.10/dist-packages (2.4.1)\n",
            "Requirement already satisfied: pandas in /usr/local/lib/python3.10/dist-packages (2.2.2)\n",
            "Requirement already satisfied: tqdm in /usr/local/lib/python3.10/dist-packages (4.66.5)\n",
            "Requirement already satisfied: geographiclib<3,>=1.52 in /usr/local/lib/python3.10/dist-packages (from geopy) (2.0)\n",
            "Requirement already satisfied: numpy>=1.22.4 in /usr/local/lib/python3.10/dist-packages (from pandas) (1.26.4)\n",
            "Requirement already satisfied: python-dateutil>=2.8.2 in /usr/local/lib/python3.10/dist-packages (from pandas) (2.8.2)\n",
            "Requirement already satisfied: pytz>=2020.1 in /usr/local/lib/python3.10/dist-packages (from pandas) (2024.2)\n",
            "Requirement already satisfied: tzdata>=2022.7 in /usr/local/lib/python3.10/dist-packages (from pandas) (2024.2)\n",
            "Requirement already satisfied: six>=1.5 in /usr/local/lib/python3.10/dist-packages (from python-dateutil>=2.8.2->pandas) (1.16.0)\n"
          ]
        }
      ]
    },
    {
      "cell_type": "code",
      "source": [
        "import pandas as pd\n",
        "from geopy.geocoders import Nominatim\n",
        "from geopy.extra.rate_limiter import RateLimiter\n",
        "from tqdm import tqdm\n",
        "import time\n",
        "\n",
        "# Sample DataFrame\n",
        "data = {\n",
        "    'latitude': [12.971598, 19.076090, 28.704060]*1000,  # Add more latitudes here\n",
        "    'longitude': [77.594566, 72.877426, 77.102493]*1000  # Add more longitudes here\n",
        "}\n",
        "df = pd.DataFrame(data)\n",
        "\n",
        "# Initialize geolocator\n",
        "geolocator = Nominatim(user_agent=\"geoapiExercises\")\n",
        "\n",
        "# Rate limiter to avoid exceeding API limits\n",
        "reverse = RateLimiter(geolocator.reverse, min_delay_seconds=2)\n",
        "\n",
        "# Function to reverse geocode coordinates\n",
        "def reverse_geocode(lat, lon):\n",
        "    try:\n",
        "        location = reverse((lat, lon), exactly_one=True)\n",
        "        if location:\n",
        "            return location.address\n",
        "        else:\n",
        "            return None\n",
        "    except Exception as e:\n",
        "        return None\n",
        "\n",
        "# Apply reverse geocoding for each row\n",
        "tqdm.pandas()  # Enable progress bar for pandas apply\n",
        "df['address'] = df.progress_apply(lambda row: reverse_geocode(row['latitude'], row['longitude']), axis=1)\n",
        "\n",
        "# Show the resulting DataFrame\n",
        "print(df)\n"
      ],
      "metadata": {
        "colab": {
          "base_uri": "https://localhost:8080/",
          "height": 1000
        },
        "id": "idYPqYjiv-TK",
        "outputId": "dfe876db-98dc-41a6-e651-8751a2f14c7b"
      },
      "execution_count": 6,
      "outputs": [
        {
          "output_type": "stream",
          "name": "stderr",
          "text": [
            "\r  0%|          | 0/3000 [00:00<?, ?it/s]WARNING:geopy:RateLimiter caught an error, retrying (0/2 tries). Called with (*((12.971598, 77.594566),), **{'exactly_one': True}).\n",
            "Traceback (most recent call last):\n",
            "  File \"/usr/local/lib/python3.10/dist-packages/geopy/geocoders/base.py\", line 368, in _call_geocoder\n",
            "    result = self.adapter.get_json(url, timeout=timeout, headers=req_headers)\n",
            "  File \"/usr/local/lib/python3.10/dist-packages/geopy/adapters.py\", line 472, in get_json\n",
            "    resp = self._request(url, timeout=timeout, headers=headers)\n",
            "  File \"/usr/local/lib/python3.10/dist-packages/geopy/adapters.py\", line 500, in _request\n",
            "    raise AdapterHTTPError(\n",
            "geopy.adapters.AdapterHTTPError: Non-successful status code 403\n",
            "\n",
            "The above exception was the direct cause of the following exception:\n",
            "\n",
            "Traceback (most recent call last):\n",
            "  File \"/usr/local/lib/python3.10/dist-packages/geopy/extra/rate_limiter.py\", line 136, in _retries_gen\n",
            "    yield i  # Run the function.\n",
            "  File \"/usr/local/lib/python3.10/dist-packages/geopy/extra/rate_limiter.py\", line 274, in __call__\n",
            "    res = self.func(*args, **kwargs)\n",
            "  File \"/usr/local/lib/python3.10/dist-packages/geopy/geocoders/nominatim.py\", line 372, in reverse\n",
            "    return self._call_geocoder(url, callback, timeout=timeout)\n",
            "  File \"/usr/local/lib/python3.10/dist-packages/geopy/geocoders/base.py\", line 388, in _call_geocoder\n",
            "    res = self._adapter_error_handler(error)\n",
            "  File \"/usr/local/lib/python3.10/dist-packages/geopy/geocoders/base.py\", line 411, in _adapter_error_handler\n",
            "    raise exc_cls(str(error)) from error\n",
            "geopy.exc.GeocoderInsufficientPrivileges: Non-successful status code 403\n",
            "WARNING:geopy:RateLimiter caught an error, retrying (1/2 tries). Called with (*((12.971598, 77.594566),), **{'exactly_one': True}).\n",
            "Traceback (most recent call last):\n",
            "  File \"/usr/local/lib/python3.10/dist-packages/geopy/geocoders/base.py\", line 368, in _call_geocoder\n",
            "    result = self.adapter.get_json(url, timeout=timeout, headers=req_headers)\n",
            "  File \"/usr/local/lib/python3.10/dist-packages/geopy/adapters.py\", line 472, in get_json\n",
            "    resp = self._request(url, timeout=timeout, headers=headers)\n",
            "  File \"/usr/local/lib/python3.10/dist-packages/geopy/adapters.py\", line 500, in _request\n",
            "    raise AdapterHTTPError(\n",
            "geopy.adapters.AdapterHTTPError: Non-successful status code 403\n",
            "\n",
            "The above exception was the direct cause of the following exception:\n",
            "\n",
            "Traceback (most recent call last):\n",
            "  File \"/usr/local/lib/python3.10/dist-packages/geopy/extra/rate_limiter.py\", line 136, in _retries_gen\n",
            "    yield i  # Run the function.\n",
            "  File \"/usr/local/lib/python3.10/dist-packages/geopy/extra/rate_limiter.py\", line 274, in __call__\n",
            "    res = self.func(*args, **kwargs)\n",
            "  File \"/usr/local/lib/python3.10/dist-packages/geopy/geocoders/nominatim.py\", line 372, in reverse\n",
            "    return self._call_geocoder(url, callback, timeout=timeout)\n",
            "  File \"/usr/local/lib/python3.10/dist-packages/geopy/geocoders/base.py\", line 388, in _call_geocoder\n",
            "    res = self._adapter_error_handler(error)\n",
            "  File \"/usr/local/lib/python3.10/dist-packages/geopy/geocoders/base.py\", line 411, in _adapter_error_handler\n",
            "    raise exc_cls(str(error)) from error\n",
            "geopy.exc.GeocoderInsufficientPrivileges: Non-successful status code 403\n",
            "  0%|          | 1/3000 [00:08<7:07:08,  8.55s/it]\n"
          ]
        },
        {
          "output_type": "error",
          "ename": "KeyboardInterrupt",
          "evalue": "",
          "traceback": [
            "\u001b[0;31m---------------------------------------------------------------------------\u001b[0m",
            "\u001b[0;31mAdapterHTTPError\u001b[0m                          Traceback (most recent call last)",
            "\u001b[0;32m/usr/local/lib/python3.10/dist-packages/geopy/geocoders/base.py\u001b[0m in \u001b[0;36m_call_geocoder\u001b[0;34m(self, url, callback, timeout, is_json, headers)\u001b[0m\n\u001b[1;32m    367\u001b[0m             \u001b[0;32mif\u001b[0m \u001b[0mis_json\u001b[0m\u001b[0;34m:\u001b[0m\u001b[0;34m\u001b[0m\u001b[0;34m\u001b[0m\u001b[0m\n\u001b[0;32m--> 368\u001b[0;31m                 \u001b[0mresult\u001b[0m \u001b[0;34m=\u001b[0m \u001b[0mself\u001b[0m\u001b[0;34m.\u001b[0m\u001b[0madapter\u001b[0m\u001b[0;34m.\u001b[0m\u001b[0mget_json\u001b[0m\u001b[0;34m(\u001b[0m\u001b[0murl\u001b[0m\u001b[0;34m,\u001b[0m \u001b[0mtimeout\u001b[0m\u001b[0;34m=\u001b[0m\u001b[0mtimeout\u001b[0m\u001b[0;34m,\u001b[0m \u001b[0mheaders\u001b[0m\u001b[0;34m=\u001b[0m\u001b[0mreq_headers\u001b[0m\u001b[0;34m)\u001b[0m\u001b[0;34m\u001b[0m\u001b[0;34m\u001b[0m\u001b[0m\n\u001b[0m\u001b[1;32m    369\u001b[0m             \u001b[0;32melse\u001b[0m\u001b[0;34m:\u001b[0m\u001b[0;34m\u001b[0m\u001b[0;34m\u001b[0m\u001b[0m\n",
            "\u001b[0;32m/usr/local/lib/python3.10/dist-packages/geopy/adapters.py\u001b[0m in \u001b[0;36mget_json\u001b[0;34m(self, url, timeout, headers)\u001b[0m\n\u001b[1;32m    471\u001b[0m     \u001b[0;32mdef\u001b[0m \u001b[0mget_json\u001b[0m\u001b[0;34m(\u001b[0m\u001b[0mself\u001b[0m\u001b[0;34m,\u001b[0m \u001b[0murl\u001b[0m\u001b[0;34m,\u001b[0m \u001b[0;34m*\u001b[0m\u001b[0;34m,\u001b[0m \u001b[0mtimeout\u001b[0m\u001b[0;34m,\u001b[0m \u001b[0mheaders\u001b[0m\u001b[0;34m)\u001b[0m\u001b[0;34m:\u001b[0m\u001b[0;34m\u001b[0m\u001b[0;34m\u001b[0m\u001b[0m\n\u001b[0;32m--> 472\u001b[0;31m         \u001b[0mresp\u001b[0m \u001b[0;34m=\u001b[0m \u001b[0mself\u001b[0m\u001b[0;34m.\u001b[0m\u001b[0m_request\u001b[0m\u001b[0;34m(\u001b[0m\u001b[0murl\u001b[0m\u001b[0;34m,\u001b[0m \u001b[0mtimeout\u001b[0m\u001b[0;34m=\u001b[0m\u001b[0mtimeout\u001b[0m\u001b[0;34m,\u001b[0m \u001b[0mheaders\u001b[0m\u001b[0;34m=\u001b[0m\u001b[0mheaders\u001b[0m\u001b[0;34m)\u001b[0m\u001b[0;34m\u001b[0m\u001b[0;34m\u001b[0m\u001b[0m\n\u001b[0m\u001b[1;32m    473\u001b[0m         \u001b[0;32mtry\u001b[0m\u001b[0;34m:\u001b[0m\u001b[0;34m\u001b[0m\u001b[0;34m\u001b[0m\u001b[0m\n",
            "\u001b[0;32m/usr/local/lib/python3.10/dist-packages/geopy/adapters.py\u001b[0m in \u001b[0;36m_request\u001b[0;34m(self, url, timeout, headers)\u001b[0m\n\u001b[1;32m    499\u001b[0m             \u001b[0;32mif\u001b[0m \u001b[0mresp\u001b[0m\u001b[0;34m.\u001b[0m\u001b[0mstatus_code\u001b[0m \u001b[0;34m>=\u001b[0m \u001b[0;36m400\u001b[0m\u001b[0;34m:\u001b[0m\u001b[0;34m\u001b[0m\u001b[0;34m\u001b[0m\u001b[0m\n\u001b[0;32m--> 500\u001b[0;31m                 raise AdapterHTTPError(\n\u001b[0m\u001b[1;32m    501\u001b[0m                     \u001b[0;34m\"Non-successful status code %s\"\u001b[0m \u001b[0;34m%\u001b[0m \u001b[0mresp\u001b[0m\u001b[0;34m.\u001b[0m\u001b[0mstatus_code\u001b[0m\u001b[0;34m,\u001b[0m\u001b[0;34m\u001b[0m\u001b[0;34m\u001b[0m\u001b[0m\n",
            "\u001b[0;31mAdapterHTTPError\u001b[0m: Non-successful status code 403",
            "\nThe above exception was the direct cause of the following exception:\n",
            "\u001b[0;31mGeocoderInsufficientPrivileges\u001b[0m            Traceback (most recent call last)",
            "\u001b[0;32m/usr/local/lib/python3.10/dist-packages/geopy/extra/rate_limiter.py\u001b[0m in \u001b[0;36m_retries_gen\u001b[0;34m(self, args, kwargs)\u001b[0m\n\u001b[1;32m    135\u001b[0m             \u001b[0;32mtry\u001b[0m\u001b[0;34m:\u001b[0m\u001b[0;34m\u001b[0m\u001b[0;34m\u001b[0m\u001b[0m\n\u001b[0;32m--> 136\u001b[0;31m                 \u001b[0;32myield\u001b[0m \u001b[0mi\u001b[0m  \u001b[0;31m# Run the function.\u001b[0m\u001b[0;34m\u001b[0m\u001b[0;34m\u001b[0m\u001b[0m\n\u001b[0m\u001b[1;32m    137\u001b[0m             \u001b[0;32mexcept\u001b[0m \u001b[0mself\u001b[0m\u001b[0;34m.\u001b[0m\u001b[0m_retry_exceptions\u001b[0m\u001b[0;34m:\u001b[0m\u001b[0;34m\u001b[0m\u001b[0;34m\u001b[0m\u001b[0m\n",
            "\u001b[0;32m/usr/local/lib/python3.10/dist-packages/geopy/extra/rate_limiter.py\u001b[0m in \u001b[0;36m__call__\u001b[0;34m(self, *args, **kwargs)\u001b[0m\n\u001b[1;32m    273\u001b[0m             \u001b[0;32mtry\u001b[0m\u001b[0;34m:\u001b[0m\u001b[0;34m\u001b[0m\u001b[0;34m\u001b[0m\u001b[0m\n\u001b[0;32m--> 274\u001b[0;31m                 \u001b[0mres\u001b[0m \u001b[0;34m=\u001b[0m \u001b[0mself\u001b[0m\u001b[0;34m.\u001b[0m\u001b[0mfunc\u001b[0m\u001b[0;34m(\u001b[0m\u001b[0;34m*\u001b[0m\u001b[0margs\u001b[0m\u001b[0;34m,\u001b[0m \u001b[0;34m**\u001b[0m\u001b[0mkwargs\u001b[0m\u001b[0;34m)\u001b[0m\u001b[0;34m\u001b[0m\u001b[0;34m\u001b[0m\u001b[0m\n\u001b[0m\u001b[1;32m    275\u001b[0m                 \u001b[0;32mif\u001b[0m \u001b[0minspect\u001b[0m\u001b[0;34m.\u001b[0m\u001b[0misawaitable\u001b[0m\u001b[0;34m(\u001b[0m\u001b[0mres\u001b[0m\u001b[0;34m)\u001b[0m\u001b[0;34m:\u001b[0m\u001b[0;34m\u001b[0m\u001b[0;34m\u001b[0m\u001b[0m\n",
            "\u001b[0;32m/usr/local/lib/python3.10/dist-packages/geopy/geocoders/nominatim.py\u001b[0m in \u001b[0;36mreverse\u001b[0;34m(self, query, exactly_one, timeout, language, addressdetails, zoom, namedetails)\u001b[0m\n\u001b[1;32m    371\u001b[0m         \u001b[0mcallback\u001b[0m \u001b[0;34m=\u001b[0m \u001b[0mpartial\u001b[0m\u001b[0;34m(\u001b[0m\u001b[0mself\u001b[0m\u001b[0;34m.\u001b[0m\u001b[0m_parse_json\u001b[0m\u001b[0;34m,\u001b[0m \u001b[0mexactly_one\u001b[0m\u001b[0;34m=\u001b[0m\u001b[0mexactly_one\u001b[0m\u001b[0;34m)\u001b[0m\u001b[0;34m\u001b[0m\u001b[0;34m\u001b[0m\u001b[0m\n\u001b[0;32m--> 372\u001b[0;31m         \u001b[0;32mreturn\u001b[0m \u001b[0mself\u001b[0m\u001b[0;34m.\u001b[0m\u001b[0m_call_geocoder\u001b[0m\u001b[0;34m(\u001b[0m\u001b[0murl\u001b[0m\u001b[0;34m,\u001b[0m \u001b[0mcallback\u001b[0m\u001b[0;34m,\u001b[0m \u001b[0mtimeout\u001b[0m\u001b[0;34m=\u001b[0m\u001b[0mtimeout\u001b[0m\u001b[0;34m)\u001b[0m\u001b[0;34m\u001b[0m\u001b[0;34m\u001b[0m\u001b[0m\n\u001b[0m\u001b[1;32m    373\u001b[0m \u001b[0;34m\u001b[0m\u001b[0m\n",
            "\u001b[0;32m/usr/local/lib/python3.10/dist-packages/geopy/geocoders/base.py\u001b[0m in \u001b[0;36m_call_geocoder\u001b[0;34m(self, url, callback, timeout, is_json, headers)\u001b[0m\n\u001b[1;32m    387\u001b[0m         \u001b[0;32mexcept\u001b[0m \u001b[0mException\u001b[0m \u001b[0;32mas\u001b[0m \u001b[0merror\u001b[0m\u001b[0;34m:\u001b[0m\u001b[0;34m\u001b[0m\u001b[0;34m\u001b[0m\u001b[0m\n\u001b[0;32m--> 388\u001b[0;31m             \u001b[0mres\u001b[0m \u001b[0;34m=\u001b[0m \u001b[0mself\u001b[0m\u001b[0;34m.\u001b[0m\u001b[0m_adapter_error_handler\u001b[0m\u001b[0;34m(\u001b[0m\u001b[0merror\u001b[0m\u001b[0;34m)\u001b[0m\u001b[0;34m\u001b[0m\u001b[0;34m\u001b[0m\u001b[0m\n\u001b[0m\u001b[1;32m    389\u001b[0m             \u001b[0;32mif\u001b[0m \u001b[0mres\u001b[0m \u001b[0;32mis\u001b[0m \u001b[0mNONE_RESULT\u001b[0m\u001b[0;34m:\u001b[0m\u001b[0;34m\u001b[0m\u001b[0;34m\u001b[0m\u001b[0m\n",
            "\u001b[0;32m/usr/local/lib/python3.10/dist-packages/geopy/geocoders/base.py\u001b[0m in \u001b[0;36m_adapter_error_handler\u001b[0;34m(self, error)\u001b[0m\n\u001b[1;32m    410\u001b[0m             \u001b[0;32melse\u001b[0m\u001b[0;34m:\u001b[0m\u001b[0;34m\u001b[0m\u001b[0;34m\u001b[0m\u001b[0m\n\u001b[0;32m--> 411\u001b[0;31m                 \u001b[0;32mraise\u001b[0m \u001b[0mexc_cls\u001b[0m\u001b[0;34m(\u001b[0m\u001b[0mstr\u001b[0m\u001b[0;34m(\u001b[0m\u001b[0merror\u001b[0m\u001b[0;34m)\u001b[0m\u001b[0;34m)\u001b[0m \u001b[0;32mfrom\u001b[0m \u001b[0merror\u001b[0m\u001b[0;34m\u001b[0m\u001b[0;34m\u001b[0m\u001b[0m\n\u001b[0m\u001b[1;32m    412\u001b[0m         \u001b[0;32melse\u001b[0m\u001b[0;34m:\u001b[0m\u001b[0;34m\u001b[0m\u001b[0;34m\u001b[0m\u001b[0m\n",
            "\u001b[0;31mGeocoderInsufficientPrivileges\u001b[0m: Non-successful status code 403",
            "\nDuring handling of the above exception, another exception occurred:\n",
            "\u001b[0;31mKeyboardInterrupt\u001b[0m                         Traceback (most recent call last)",
            "\u001b[0;32m<ipython-input-6-196820de8f9b>\u001b[0m in \u001b[0;36m<cell line: 33>\u001b[0;34m()\u001b[0m\n\u001b[1;32m     31\u001b[0m \u001b[0;31m# Apply reverse geocoding for each row\u001b[0m\u001b[0;34m\u001b[0m\u001b[0;34m\u001b[0m\u001b[0m\n\u001b[1;32m     32\u001b[0m \u001b[0mtqdm\u001b[0m\u001b[0;34m.\u001b[0m\u001b[0mpandas\u001b[0m\u001b[0;34m(\u001b[0m\u001b[0;34m)\u001b[0m  \u001b[0;31m# Enable progress bar for pandas apply\u001b[0m\u001b[0;34m\u001b[0m\u001b[0;34m\u001b[0m\u001b[0m\n\u001b[0;32m---> 33\u001b[0;31m \u001b[0mdf\u001b[0m\u001b[0;34m[\u001b[0m\u001b[0;34m'address'\u001b[0m\u001b[0;34m]\u001b[0m \u001b[0;34m=\u001b[0m \u001b[0mdf\u001b[0m\u001b[0;34m.\u001b[0m\u001b[0mprogress_apply\u001b[0m\u001b[0;34m(\u001b[0m\u001b[0;32mlambda\u001b[0m \u001b[0mrow\u001b[0m\u001b[0;34m:\u001b[0m \u001b[0mreverse_geocode\u001b[0m\u001b[0;34m(\u001b[0m\u001b[0mrow\u001b[0m\u001b[0;34m[\u001b[0m\u001b[0;34m'latitude'\u001b[0m\u001b[0;34m]\u001b[0m\u001b[0;34m,\u001b[0m \u001b[0mrow\u001b[0m\u001b[0;34m[\u001b[0m\u001b[0;34m'longitude'\u001b[0m\u001b[0;34m]\u001b[0m\u001b[0;34m)\u001b[0m\u001b[0;34m,\u001b[0m \u001b[0maxis\u001b[0m\u001b[0;34m=\u001b[0m\u001b[0;36m1\u001b[0m\u001b[0;34m)\u001b[0m\u001b[0;34m\u001b[0m\u001b[0;34m\u001b[0m\u001b[0m\n\u001b[0m\u001b[1;32m     34\u001b[0m \u001b[0;34m\u001b[0m\u001b[0m\n\u001b[1;32m     35\u001b[0m \u001b[0;31m# Show the resulting DataFrame\u001b[0m\u001b[0;34m\u001b[0m\u001b[0;34m\u001b[0m\u001b[0m\n",
            "\u001b[0;32m/usr/local/lib/python3.10/dist-packages/tqdm/std.py\u001b[0m in \u001b[0;36minner\u001b[0;34m(df, func, *args, **kwargs)\u001b[0m\n\u001b[1;32m    915\u001b[0m                 \u001b[0;31m# on the df using our wrapper (which provides bar updating)\u001b[0m\u001b[0;34m\u001b[0m\u001b[0;34m\u001b[0m\u001b[0m\n\u001b[1;32m    916\u001b[0m                 \u001b[0;32mtry\u001b[0m\u001b[0;34m:\u001b[0m\u001b[0;34m\u001b[0m\u001b[0;34m\u001b[0m\u001b[0m\n\u001b[0;32m--> 917\u001b[0;31m                     \u001b[0;32mreturn\u001b[0m \u001b[0mgetattr\u001b[0m\u001b[0;34m(\u001b[0m\u001b[0mdf\u001b[0m\u001b[0;34m,\u001b[0m \u001b[0mdf_function\u001b[0m\u001b[0;34m)\u001b[0m\u001b[0;34m(\u001b[0m\u001b[0mwrapper\u001b[0m\u001b[0;34m,\u001b[0m \u001b[0;34m**\u001b[0m\u001b[0mkwargs\u001b[0m\u001b[0;34m)\u001b[0m\u001b[0;34m\u001b[0m\u001b[0;34m\u001b[0m\u001b[0m\n\u001b[0m\u001b[1;32m    918\u001b[0m                 \u001b[0;32mfinally\u001b[0m\u001b[0;34m:\u001b[0m\u001b[0;34m\u001b[0m\u001b[0;34m\u001b[0m\u001b[0m\n\u001b[1;32m    919\u001b[0m                     \u001b[0mt\u001b[0m\u001b[0;34m.\u001b[0m\u001b[0mclose\u001b[0m\u001b[0;34m(\u001b[0m\u001b[0;34m)\u001b[0m\u001b[0;34m\u001b[0m\u001b[0;34m\u001b[0m\u001b[0m\n",
            "\u001b[0;32m/usr/local/lib/python3.10/dist-packages/pandas/core/frame.py\u001b[0m in \u001b[0;36mapply\u001b[0;34m(self, func, axis, raw, result_type, args, by_row, engine, engine_kwargs, **kwargs)\u001b[0m\n\u001b[1;32m  10372\u001b[0m             \u001b[0mkwargs\u001b[0m\u001b[0;34m=\u001b[0m\u001b[0mkwargs\u001b[0m\u001b[0;34m,\u001b[0m\u001b[0;34m\u001b[0m\u001b[0;34m\u001b[0m\u001b[0m\n\u001b[1;32m  10373\u001b[0m         )\n\u001b[0;32m> 10374\u001b[0;31m         \u001b[0;32mreturn\u001b[0m \u001b[0mop\u001b[0m\u001b[0;34m.\u001b[0m\u001b[0mapply\u001b[0m\u001b[0;34m(\u001b[0m\u001b[0;34m)\u001b[0m\u001b[0;34m.\u001b[0m\u001b[0m__finalize__\u001b[0m\u001b[0;34m(\u001b[0m\u001b[0mself\u001b[0m\u001b[0;34m,\u001b[0m \u001b[0mmethod\u001b[0m\u001b[0;34m=\u001b[0m\u001b[0;34m\"apply\"\u001b[0m\u001b[0;34m)\u001b[0m\u001b[0;34m\u001b[0m\u001b[0;34m\u001b[0m\u001b[0m\n\u001b[0m\u001b[1;32m  10375\u001b[0m \u001b[0;34m\u001b[0m\u001b[0m\n\u001b[1;32m  10376\u001b[0m     def map(\n",
            "\u001b[0;32m/usr/local/lib/python3.10/dist-packages/pandas/core/apply.py\u001b[0m in \u001b[0;36mapply\u001b[0;34m(self)\u001b[0m\n\u001b[1;32m    914\u001b[0m             \u001b[0;32mreturn\u001b[0m \u001b[0mself\u001b[0m\u001b[0;34m.\u001b[0m\u001b[0mapply_raw\u001b[0m\u001b[0;34m(\u001b[0m\u001b[0mengine\u001b[0m\u001b[0;34m=\u001b[0m\u001b[0mself\u001b[0m\u001b[0;34m.\u001b[0m\u001b[0mengine\u001b[0m\u001b[0;34m,\u001b[0m \u001b[0mengine_kwargs\u001b[0m\u001b[0;34m=\u001b[0m\u001b[0mself\u001b[0m\u001b[0;34m.\u001b[0m\u001b[0mengine_kwargs\u001b[0m\u001b[0;34m)\u001b[0m\u001b[0;34m\u001b[0m\u001b[0;34m\u001b[0m\u001b[0m\n\u001b[1;32m    915\u001b[0m \u001b[0;34m\u001b[0m\u001b[0m\n\u001b[0;32m--> 916\u001b[0;31m         \u001b[0;32mreturn\u001b[0m \u001b[0mself\u001b[0m\u001b[0;34m.\u001b[0m\u001b[0mapply_standard\u001b[0m\u001b[0;34m(\u001b[0m\u001b[0;34m)\u001b[0m\u001b[0;34m\u001b[0m\u001b[0;34m\u001b[0m\u001b[0m\n\u001b[0m\u001b[1;32m    917\u001b[0m \u001b[0;34m\u001b[0m\u001b[0m\n\u001b[1;32m    918\u001b[0m     \u001b[0;32mdef\u001b[0m \u001b[0magg\u001b[0m\u001b[0;34m(\u001b[0m\u001b[0mself\u001b[0m\u001b[0;34m)\u001b[0m\u001b[0;34m:\u001b[0m\u001b[0;34m\u001b[0m\u001b[0;34m\u001b[0m\u001b[0m\n",
            "\u001b[0;32m/usr/local/lib/python3.10/dist-packages/pandas/core/apply.py\u001b[0m in \u001b[0;36mapply_standard\u001b[0;34m(self)\u001b[0m\n\u001b[1;32m   1061\u001b[0m     \u001b[0;32mdef\u001b[0m \u001b[0mapply_standard\u001b[0m\u001b[0;34m(\u001b[0m\u001b[0mself\u001b[0m\u001b[0;34m)\u001b[0m\u001b[0;34m:\u001b[0m\u001b[0;34m\u001b[0m\u001b[0;34m\u001b[0m\u001b[0m\n\u001b[1;32m   1062\u001b[0m         \u001b[0;32mif\u001b[0m \u001b[0mself\u001b[0m\u001b[0;34m.\u001b[0m\u001b[0mengine\u001b[0m \u001b[0;34m==\u001b[0m \u001b[0;34m\"python\"\u001b[0m\u001b[0;34m:\u001b[0m\u001b[0;34m\u001b[0m\u001b[0;34m\u001b[0m\u001b[0m\n\u001b[0;32m-> 1063\u001b[0;31m             \u001b[0mresults\u001b[0m\u001b[0;34m,\u001b[0m \u001b[0mres_index\u001b[0m \u001b[0;34m=\u001b[0m \u001b[0mself\u001b[0m\u001b[0;34m.\u001b[0m\u001b[0mapply_series_generator\u001b[0m\u001b[0;34m(\u001b[0m\u001b[0;34m)\u001b[0m\u001b[0;34m\u001b[0m\u001b[0;34m\u001b[0m\u001b[0m\n\u001b[0m\u001b[1;32m   1064\u001b[0m         \u001b[0;32melse\u001b[0m\u001b[0;34m:\u001b[0m\u001b[0;34m\u001b[0m\u001b[0;34m\u001b[0m\u001b[0m\n\u001b[1;32m   1065\u001b[0m             \u001b[0mresults\u001b[0m\u001b[0;34m,\u001b[0m \u001b[0mres_index\u001b[0m \u001b[0;34m=\u001b[0m \u001b[0mself\u001b[0m\u001b[0;34m.\u001b[0m\u001b[0mapply_series_numba\u001b[0m\u001b[0;34m(\u001b[0m\u001b[0;34m)\u001b[0m\u001b[0;34m\u001b[0m\u001b[0;34m\u001b[0m\u001b[0m\n",
            "\u001b[0;32m/usr/local/lib/python3.10/dist-packages/pandas/core/apply.py\u001b[0m in \u001b[0;36mapply_series_generator\u001b[0;34m(self)\u001b[0m\n\u001b[1;32m   1079\u001b[0m             \u001b[0;32mfor\u001b[0m \u001b[0mi\u001b[0m\u001b[0;34m,\u001b[0m \u001b[0mv\u001b[0m \u001b[0;32min\u001b[0m \u001b[0menumerate\u001b[0m\u001b[0;34m(\u001b[0m\u001b[0mseries_gen\u001b[0m\u001b[0;34m)\u001b[0m\u001b[0;34m:\u001b[0m\u001b[0;34m\u001b[0m\u001b[0;34m\u001b[0m\u001b[0m\n\u001b[1;32m   1080\u001b[0m                 \u001b[0;31m# ignore SettingWithCopy here in case the user mutates\u001b[0m\u001b[0;34m\u001b[0m\u001b[0;34m\u001b[0m\u001b[0m\n\u001b[0;32m-> 1081\u001b[0;31m                 \u001b[0mresults\u001b[0m\u001b[0;34m[\u001b[0m\u001b[0mi\u001b[0m\u001b[0;34m]\u001b[0m \u001b[0;34m=\u001b[0m \u001b[0mself\u001b[0m\u001b[0;34m.\u001b[0m\u001b[0mfunc\u001b[0m\u001b[0;34m(\u001b[0m\u001b[0mv\u001b[0m\u001b[0;34m,\u001b[0m \u001b[0;34m*\u001b[0m\u001b[0mself\u001b[0m\u001b[0;34m.\u001b[0m\u001b[0margs\u001b[0m\u001b[0;34m,\u001b[0m \u001b[0;34m**\u001b[0m\u001b[0mself\u001b[0m\u001b[0;34m.\u001b[0m\u001b[0mkwargs\u001b[0m\u001b[0;34m)\u001b[0m\u001b[0;34m\u001b[0m\u001b[0;34m\u001b[0m\u001b[0m\n\u001b[0m\u001b[1;32m   1082\u001b[0m                 \u001b[0;32mif\u001b[0m \u001b[0misinstance\u001b[0m\u001b[0;34m(\u001b[0m\u001b[0mresults\u001b[0m\u001b[0;34m[\u001b[0m\u001b[0mi\u001b[0m\u001b[0;34m]\u001b[0m\u001b[0;34m,\u001b[0m \u001b[0mABCSeries\u001b[0m\u001b[0;34m)\u001b[0m\u001b[0;34m:\u001b[0m\u001b[0;34m\u001b[0m\u001b[0;34m\u001b[0m\u001b[0m\n\u001b[1;32m   1083\u001b[0m                     \u001b[0;31m# If we have a view on v, we need to make a copy because\u001b[0m\u001b[0;34m\u001b[0m\u001b[0;34m\u001b[0m\u001b[0m\n",
            "\u001b[0;32m/usr/local/lib/python3.10/dist-packages/tqdm/std.py\u001b[0m in \u001b[0;36mwrapper\u001b[0;34m(*args, **kwargs)\u001b[0m\n\u001b[1;32m    910\u001b[0m                     \u001b[0;31m# take a fast or slow code path; so stop when t.total==t.n\u001b[0m\u001b[0;34m\u001b[0m\u001b[0;34m\u001b[0m\u001b[0m\n\u001b[1;32m    911\u001b[0m                     \u001b[0mt\u001b[0m\u001b[0;34m.\u001b[0m\u001b[0mupdate\u001b[0m\u001b[0;34m(\u001b[0m\u001b[0mn\u001b[0m\u001b[0;34m=\u001b[0m\u001b[0;36m1\u001b[0m \u001b[0;32mif\u001b[0m \u001b[0;32mnot\u001b[0m \u001b[0mt\u001b[0m\u001b[0;34m.\u001b[0m\u001b[0mtotal\u001b[0m \u001b[0;32mor\u001b[0m \u001b[0mt\u001b[0m\u001b[0;34m.\u001b[0m\u001b[0mn\u001b[0m \u001b[0;34m<\u001b[0m \u001b[0mt\u001b[0m\u001b[0;34m.\u001b[0m\u001b[0mtotal\u001b[0m \u001b[0;32melse\u001b[0m \u001b[0;36m0\u001b[0m\u001b[0;34m)\u001b[0m\u001b[0;34m\u001b[0m\u001b[0;34m\u001b[0m\u001b[0m\n\u001b[0;32m--> 912\u001b[0;31m                     \u001b[0;32mreturn\u001b[0m \u001b[0mfunc\u001b[0m\u001b[0;34m(\u001b[0m\u001b[0;34m*\u001b[0m\u001b[0margs\u001b[0m\u001b[0;34m,\u001b[0m \u001b[0;34m**\u001b[0m\u001b[0mkwargs\u001b[0m\u001b[0;34m)\u001b[0m\u001b[0;34m\u001b[0m\u001b[0;34m\u001b[0m\u001b[0m\n\u001b[0m\u001b[1;32m    913\u001b[0m \u001b[0;34m\u001b[0m\u001b[0m\n\u001b[1;32m    914\u001b[0m                 \u001b[0;31m# Apply the provided function (in **kwargs)\u001b[0m\u001b[0;34m\u001b[0m\u001b[0;34m\u001b[0m\u001b[0m\n",
            "\u001b[0;32m<ipython-input-6-196820de8f9b>\u001b[0m in \u001b[0;36m<lambda>\u001b[0;34m(row)\u001b[0m\n\u001b[1;32m     31\u001b[0m \u001b[0;31m# Apply reverse geocoding for each row\u001b[0m\u001b[0;34m\u001b[0m\u001b[0;34m\u001b[0m\u001b[0m\n\u001b[1;32m     32\u001b[0m \u001b[0mtqdm\u001b[0m\u001b[0;34m.\u001b[0m\u001b[0mpandas\u001b[0m\u001b[0;34m(\u001b[0m\u001b[0;34m)\u001b[0m  \u001b[0;31m# Enable progress bar for pandas apply\u001b[0m\u001b[0;34m\u001b[0m\u001b[0;34m\u001b[0m\u001b[0m\n\u001b[0;32m---> 33\u001b[0;31m \u001b[0mdf\u001b[0m\u001b[0;34m[\u001b[0m\u001b[0;34m'address'\u001b[0m\u001b[0;34m]\u001b[0m \u001b[0;34m=\u001b[0m \u001b[0mdf\u001b[0m\u001b[0;34m.\u001b[0m\u001b[0mprogress_apply\u001b[0m\u001b[0;34m(\u001b[0m\u001b[0;32mlambda\u001b[0m \u001b[0mrow\u001b[0m\u001b[0;34m:\u001b[0m \u001b[0mreverse_geocode\u001b[0m\u001b[0;34m(\u001b[0m\u001b[0mrow\u001b[0m\u001b[0;34m[\u001b[0m\u001b[0;34m'latitude'\u001b[0m\u001b[0;34m]\u001b[0m\u001b[0;34m,\u001b[0m \u001b[0mrow\u001b[0m\u001b[0;34m[\u001b[0m\u001b[0;34m'longitude'\u001b[0m\u001b[0;34m]\u001b[0m\u001b[0;34m)\u001b[0m\u001b[0;34m,\u001b[0m \u001b[0maxis\u001b[0m\u001b[0;34m=\u001b[0m\u001b[0;36m1\u001b[0m\u001b[0;34m)\u001b[0m\u001b[0;34m\u001b[0m\u001b[0;34m\u001b[0m\u001b[0m\n\u001b[0m\u001b[1;32m     34\u001b[0m \u001b[0;34m\u001b[0m\u001b[0m\n\u001b[1;32m     35\u001b[0m \u001b[0;31m# Show the resulting DataFrame\u001b[0m\u001b[0;34m\u001b[0m\u001b[0;34m\u001b[0m\u001b[0m\n",
            "\u001b[0;32m<ipython-input-6-196820de8f9b>\u001b[0m in \u001b[0;36mreverse_geocode\u001b[0;34m(lat, lon)\u001b[0m\n\u001b[1;32m     21\u001b[0m \u001b[0;32mdef\u001b[0m \u001b[0mreverse_geocode\u001b[0m\u001b[0;34m(\u001b[0m\u001b[0mlat\u001b[0m\u001b[0;34m,\u001b[0m \u001b[0mlon\u001b[0m\u001b[0;34m)\u001b[0m\u001b[0;34m:\u001b[0m\u001b[0;34m\u001b[0m\u001b[0;34m\u001b[0m\u001b[0m\n\u001b[1;32m     22\u001b[0m     \u001b[0;32mtry\u001b[0m\u001b[0;34m:\u001b[0m\u001b[0;34m\u001b[0m\u001b[0;34m\u001b[0m\u001b[0m\n\u001b[0;32m---> 23\u001b[0;31m         \u001b[0mlocation\u001b[0m \u001b[0;34m=\u001b[0m \u001b[0mreverse\u001b[0m\u001b[0;34m(\u001b[0m\u001b[0;34m(\u001b[0m\u001b[0mlat\u001b[0m\u001b[0;34m,\u001b[0m \u001b[0mlon\u001b[0m\u001b[0;34m)\u001b[0m\u001b[0;34m,\u001b[0m \u001b[0mexactly_one\u001b[0m\u001b[0;34m=\u001b[0m\u001b[0;32mTrue\u001b[0m\u001b[0;34m)\u001b[0m\u001b[0;34m\u001b[0m\u001b[0;34m\u001b[0m\u001b[0m\n\u001b[0m\u001b[1;32m     24\u001b[0m         \u001b[0;32mif\u001b[0m \u001b[0mlocation\u001b[0m\u001b[0;34m:\u001b[0m\u001b[0;34m\u001b[0m\u001b[0;34m\u001b[0m\u001b[0m\n\u001b[1;32m     25\u001b[0m             \u001b[0;32mreturn\u001b[0m \u001b[0mlocation\u001b[0m\u001b[0;34m.\u001b[0m\u001b[0maddress\u001b[0m\u001b[0;34m\u001b[0m\u001b[0;34m\u001b[0m\u001b[0m\n",
            "\u001b[0;32m/usr/local/lib/python3.10/dist-packages/geopy/extra/rate_limiter.py\u001b[0m in \u001b[0;36m__call__\u001b[0;34m(self, *args, **kwargs)\u001b[0m\n\u001b[1;32m    283\u001b[0m                     \u001b[0;31m# A final try\u001b[0m\u001b[0;34m\u001b[0m\u001b[0;34m\u001b[0m\u001b[0m\n\u001b[1;32m    284\u001b[0m                     \u001b[0;32mreturn\u001b[0m \u001b[0mself\u001b[0m\u001b[0;34m.\u001b[0m\u001b[0m_handle_exc\u001b[0m\u001b[0;34m(\u001b[0m\u001b[0margs\u001b[0m\u001b[0;34m,\u001b[0m \u001b[0mkwargs\u001b[0m\u001b[0;34m)\u001b[0m\u001b[0;34m\u001b[0m\u001b[0;34m\u001b[0m\u001b[0m\n\u001b[0;32m--> 285\u001b[0;31m                 \u001b[0mself\u001b[0m\u001b[0;34m.\u001b[0m\u001b[0m_sleep\u001b[0m\u001b[0;34m(\u001b[0m\u001b[0mself\u001b[0m\u001b[0;34m.\u001b[0m\u001b[0merror_wait_seconds\u001b[0m\u001b[0;34m)\u001b[0m\u001b[0;34m\u001b[0m\u001b[0;34m\u001b[0m\u001b[0m\n\u001b[0m\u001b[1;32m    286\u001b[0m \u001b[0;34m\u001b[0m\u001b[0m\n\u001b[1;32m    287\u001b[0m         \u001b[0;32mraise\u001b[0m \u001b[0mRuntimeError\u001b[0m\u001b[0;34m(\u001b[0m\u001b[0;34m\"Should not have been reached\"\u001b[0m\u001b[0;34m)\u001b[0m  \u001b[0;31m# pragma: no cover\u001b[0m\u001b[0;34m\u001b[0m\u001b[0;34m\u001b[0m\u001b[0m\n",
            "\u001b[0;32m/usr/local/lib/python3.10/dist-packages/geopy/extra/rate_limiter.py\u001b[0m in \u001b[0;36m_sleep\u001b[0;34m(self, seconds)\u001b[0m\n\u001b[1;32m    261\u001b[0m     \u001b[0;32mdef\u001b[0m \u001b[0m_sleep\u001b[0m\u001b[0;34m(\u001b[0m\u001b[0mself\u001b[0m\u001b[0;34m,\u001b[0m \u001b[0mseconds\u001b[0m\u001b[0;34m)\u001b[0m\u001b[0;34m:\u001b[0m  \u001b[0;31m# pragma: no cover\u001b[0m\u001b[0;34m\u001b[0m\u001b[0;34m\u001b[0m\u001b[0m\n\u001b[1;32m    262\u001b[0m         \u001b[0mlogger\u001b[0m\u001b[0;34m.\u001b[0m\u001b[0mdebug\u001b[0m\u001b[0;34m(\u001b[0m\u001b[0mtype\u001b[0m\u001b[0;34m(\u001b[0m\u001b[0mself\u001b[0m\u001b[0;34m)\u001b[0m\u001b[0;34m.\u001b[0m\u001b[0m__name__\u001b[0m \u001b[0;34m+\u001b[0m \u001b[0;34m\" sleep(%r)\"\u001b[0m\u001b[0;34m,\u001b[0m \u001b[0mseconds\u001b[0m\u001b[0;34m)\u001b[0m\u001b[0;34m\u001b[0m\u001b[0;34m\u001b[0m\u001b[0m\n\u001b[0;32m--> 263\u001b[0;31m         \u001b[0msleep\u001b[0m\u001b[0;34m(\u001b[0m\u001b[0mseconds\u001b[0m\u001b[0;34m)\u001b[0m\u001b[0;34m\u001b[0m\u001b[0;34m\u001b[0m\u001b[0m\n\u001b[0m\u001b[1;32m    264\u001b[0m \u001b[0;34m\u001b[0m\u001b[0m\n\u001b[1;32m    265\u001b[0m     \u001b[0;32mdef\u001b[0m \u001b[0m_acquire_request_slot\u001b[0m\u001b[0;34m(\u001b[0m\u001b[0mself\u001b[0m\u001b[0;34m)\u001b[0m\u001b[0;34m:\u001b[0m\u001b[0;34m\u001b[0m\u001b[0;34m\u001b[0m\u001b[0m\n",
            "\u001b[0;31mKeyboardInterrupt\u001b[0m: "
          ]
        }
      ]
    },
    {
      "cell_type": "markdown",
      "source": [
        "# Opencagedata 2,500 API requests/day"
      ],
      "metadata": {
        "id": "HdmiQjJV07M_"
      }
    },
    {
      "cell_type": "code",
      "source": [
        "pip install opencage"
      ],
      "metadata": {
        "colab": {
          "base_uri": "https://localhost:8080/"
        },
        "id": "JCF9ilKjwI_Q",
        "outputId": "1c0bde17-2c13-427f-cc71-ba5b9ae8f048"
      },
      "execution_count": 7,
      "outputs": [
        {
          "output_type": "stream",
          "name": "stdout",
          "text": [
            "Collecting opencage\n",
            "  Downloading opencage-3.0.2-py3-none-any.whl.metadata (7.6 kB)\n",
            "Requirement already satisfied: Requests>=2.31.0 in /usr/local/lib/python3.10/dist-packages (from opencage) (2.32.3)\n",
            "Collecting backoff>=2.2.1 (from opencage)\n",
            "  Downloading backoff-2.2.1-py3-none-any.whl.metadata (14 kB)\n",
            "Requirement already satisfied: tqdm>=4.66.4 in /usr/local/lib/python3.10/dist-packages (from opencage) (4.66.5)\n",
            "Requirement already satisfied: certifi>=2024.07.04 in /usr/local/lib/python3.10/dist-packages (from opencage) (2024.8.30)\n",
            "Requirement already satisfied: aiohttp>=3.10.5 in /usr/local/lib/python3.10/dist-packages (from opencage) (3.10.8)\n",
            "Requirement already satisfied: aiohappyeyeballs>=2.3.0 in /usr/local/lib/python3.10/dist-packages (from aiohttp>=3.10.5->opencage) (2.4.3)\n",
            "Requirement already satisfied: aiosignal>=1.1.2 in /usr/local/lib/python3.10/dist-packages (from aiohttp>=3.10.5->opencage) (1.3.1)\n",
            "Requirement already satisfied: attrs>=17.3.0 in /usr/local/lib/python3.10/dist-packages (from aiohttp>=3.10.5->opencage) (24.2.0)\n",
            "Requirement already satisfied: frozenlist>=1.1.1 in /usr/local/lib/python3.10/dist-packages (from aiohttp>=3.10.5->opencage) (1.4.1)\n",
            "Requirement already satisfied: multidict<7.0,>=4.5 in /usr/local/lib/python3.10/dist-packages (from aiohttp>=3.10.5->opencage) (6.1.0)\n",
            "Requirement already satisfied: yarl<2.0,>=1.12.0 in /usr/local/lib/python3.10/dist-packages (from aiohttp>=3.10.5->opencage) (1.13.1)\n",
            "Requirement already satisfied: async-timeout<5.0,>=4.0 in /usr/local/lib/python3.10/dist-packages (from aiohttp>=3.10.5->opencage) (4.0.3)\n",
            "Requirement already satisfied: charset-normalizer<4,>=2 in /usr/local/lib/python3.10/dist-packages (from Requests>=2.31.0->opencage) (3.3.2)\n",
            "Requirement already satisfied: idna<4,>=2.5 in /usr/local/lib/python3.10/dist-packages (from Requests>=2.31.0->opencage) (3.10)\n",
            "Requirement already satisfied: urllib3<3,>=1.21.1 in /usr/local/lib/python3.10/dist-packages (from Requests>=2.31.0->opencage) (2.2.3)\n",
            "Requirement already satisfied: typing-extensions>=4.1.0 in /usr/local/lib/python3.10/dist-packages (from multidict<7.0,>=4.5->aiohttp>=3.10.5->opencage) (4.12.2)\n",
            "Downloading opencage-3.0.2-py3-none-any.whl (21 kB)\n",
            "Downloading backoff-2.2.1-py3-none-any.whl (15 kB)\n",
            "Installing collected packages: backoff, opencage\n",
            "Successfully installed backoff-2.2.1 opencage-3.0.2\n"
          ]
        }
      ]
    },
    {
      "cell_type": "code",
      "source": [
        "import pandas as pd\n",
        "from opencage.geocoder import OpenCageGeocode\n",
        "from tqdm import tqdm\n",
        "import time\n",
        "\n",
        "# Your API key\n",
        "api_key = 'YOUR_API_KEY'\n",
        "geocoder = OpenCageGeocode('5dc769d1003040bda69b43bbdcd2af42')\n",
        "\n",
        "# Sample DataFrame\n",
        "data = {\n",
        "    'latitude': [12.971598, 19.076090, 28.704060]*3,  # Add more latitudes here\n",
        "    'longitude': [77.594566, 72.877426, 77.102493]*3  # Add more longitudes here\n",
        "}\n",
        "df = pd.DataFrame(data)\n",
        "\n",
        "# Function to reverse geocode coordinates\n",
        "def reverse_geocode(lat, lon):\n",
        "    try:\n",
        "        result = geocoder.reverse_geocode(lat, lon)\n",
        "        if result and len(result) > 0:\n",
        "            print(result[0]['formatted'])\n",
        "            return result[0]['formatted']\n",
        "        else:\n",
        "            return None\n",
        "    except Exception as e:\n",
        "        return None\n",
        "\n",
        "# Apply reverse geocoding for each row\n",
        "tqdm.pandas()  # Enable progress bar for pandas apply\n",
        "df['address'] = df.progress_apply(lambda row: reverse_geocode(row['latitude'], row['longitude']), axis=1)\n",
        "\n",
        "# Show the resulting DataFrame\n",
        "print(df)\n"
      ],
      "metadata": {
        "colab": {
          "base_uri": "https://localhost:8080/"
        },
        "id": "lHPJJmYzwvkK",
        "outputId": "e497a832-d601-47a3-d7ff-dba3c2062dc0"
      },
      "execution_count": 11,
      "outputs": [
        {
          "output_type": "stream",
          "name": "stderr",
          "text": [
            " 22%|██▏       | 2/9 [00:00<00:02,  2.98it/s]"
          ]
        },
        {
          "output_type": "stream",
          "name": "stdout",
          "text": [
            "St. Joseph's Indian High School, Vittal Mallya Road, Shanthala Nagar, Bengaluru - 560001, Karnataka, India\n"
          ]
        },
        {
          "output_type": "stream",
          "name": "stderr",
          "text": [
            "\r 33%|███▎      | 3/9 [00:01<00:02,  2.38it/s]"
          ]
        },
        {
          "output_type": "stream",
          "name": "stdout",
          "text": [
            "Lal Bahadur Shastri Marg, Zone 5, Mumbai - 400070, Maharashtra, India\n"
          ]
        },
        {
          "output_type": "stream",
          "name": "stderr",
          "text": [
            "\r 44%|████▍     | 4/9 [00:01<00:02,  2.15it/s]"
          ]
        },
        {
          "output_type": "stream",
          "name": "stdout",
          "text": [
            "unnamed road, Rohini, - 110083, Delhi, India\n"
          ]
        },
        {
          "output_type": "stream",
          "name": "stderr",
          "text": [
            "\r 56%|█████▌    | 5/9 [00:02<00:01,  2.05it/s]"
          ]
        },
        {
          "output_type": "stream",
          "name": "stdout",
          "text": [
            "St. Joseph's Indian High School, Vittal Mallya Road, Shanthala Nagar, Bengaluru - 560001, Karnataka, India\n"
          ]
        },
        {
          "output_type": "stream",
          "name": "stderr",
          "text": [
            "\r 67%|██████▋   | 6/9 [00:02<00:01,  2.02it/s]"
          ]
        },
        {
          "output_type": "stream",
          "name": "stdout",
          "text": [
            "Lal Bahadur Shastri Marg, Zone 5, Mumbai - 400070, Maharashtra, India\n"
          ]
        },
        {
          "output_type": "stream",
          "name": "stderr",
          "text": [
            "\r 78%|███████▊  | 7/9 [00:03<00:01,  1.96it/s]"
          ]
        },
        {
          "output_type": "stream",
          "name": "stdout",
          "text": [
            "unnamed road, Rohini, - 110083, Delhi, India\n"
          ]
        },
        {
          "output_type": "stream",
          "name": "stderr",
          "text": [
            "\r 89%|████████▉ | 8/9 [00:03<00:00,  1.93it/s]"
          ]
        },
        {
          "output_type": "stream",
          "name": "stdout",
          "text": [
            "St. Joseph's Indian High School, Vittal Mallya Road, Shanthala Nagar, Bengaluru - 560001, Karnataka, India\n"
          ]
        },
        {
          "output_type": "stream",
          "name": "stderr",
          "text": [
            "\r100%|██████████| 9/9 [00:04<00:00,  1.90it/s]"
          ]
        },
        {
          "output_type": "stream",
          "name": "stdout",
          "text": [
            "Lal Bahadur Shastri Marg, Zone 5, Mumbai - 400070, Maharashtra, India\n"
          ]
        },
        {
          "output_type": "stream",
          "name": "stderr",
          "text": [
            "\r100%|██████████| 9/9 [00:04<00:00,  1.82it/s]"
          ]
        },
        {
          "output_type": "stream",
          "name": "stdout",
          "text": [
            "unnamed road, Rohini, - 110083, Delhi, India\n",
            "    latitude  longitude                                            address\n",
            "0  12.971598  77.594566  St. Joseph's Indian High School, Vittal Mallya...\n",
            "1  19.076090  72.877426  Lal Bahadur Shastri Marg, Zone 5, Mumbai - 400...\n",
            "2  28.704060  77.102493       unnamed road, Rohini, - 110083, Delhi, India\n",
            "3  12.971598  77.594566  St. Joseph's Indian High School, Vittal Mallya...\n",
            "4  19.076090  72.877426  Lal Bahadur Shastri Marg, Zone 5, Mumbai - 400...\n",
            "5  28.704060  77.102493       unnamed road, Rohini, - 110083, Delhi, India\n",
            "6  12.971598  77.594566  St. Joseph's Indian High School, Vittal Mallya...\n",
            "7  19.076090  72.877426  Lal Bahadur Shastri Marg, Zone 5, Mumbai - 400...\n",
            "8  28.704060  77.102493       unnamed road, Rohini, - 110083, Delhi, India\n"
          ]
        },
        {
          "output_type": "stream",
          "name": "stderr",
          "text": [
            "\n"
          ]
        }
      ]
    },
    {
      "cell_type": "code",
      "source": [
        "df"
      ],
      "metadata": {
        "colab": {
          "base_uri": "https://localhost:8080/",
          "height": 331
        },
        "id": "U2GWFRVoxpSY",
        "outputId": "acd3e8d9-7ffe-4e97-bc59-b96fa4c517fc"
      },
      "execution_count": 12,
      "outputs": [
        {
          "output_type": "execute_result",
          "data": {
            "text/plain": [
              "    latitude  longitude                                            address\n",
              "0  12.971598  77.594566  St. Joseph's Indian High School, Vittal Mallya...\n",
              "1  19.076090  72.877426  Lal Bahadur Shastri Marg, Zone 5, Mumbai - 400...\n",
              "2  28.704060  77.102493       unnamed road, Rohini, - 110083, Delhi, India\n",
              "3  12.971598  77.594566  St. Joseph's Indian High School, Vittal Mallya...\n",
              "4  19.076090  72.877426  Lal Bahadur Shastri Marg, Zone 5, Mumbai - 400...\n",
              "5  28.704060  77.102493       unnamed road, Rohini, - 110083, Delhi, India\n",
              "6  12.971598  77.594566  St. Joseph's Indian High School, Vittal Mallya...\n",
              "7  19.076090  72.877426  Lal Bahadur Shastri Marg, Zone 5, Mumbai - 400...\n",
              "8  28.704060  77.102493       unnamed road, Rohini, - 110083, Delhi, India"
            ],
            "text/html": [
              "\n",
              "  <div id=\"df-19e1935f-1801-4fcb-b118-fc6fbfb44e8c\" class=\"colab-df-container\">\n",
              "    <div>\n",
              "<style scoped>\n",
              "    .dataframe tbody tr th:only-of-type {\n",
              "        vertical-align: middle;\n",
              "    }\n",
              "\n",
              "    .dataframe tbody tr th {\n",
              "        vertical-align: top;\n",
              "    }\n",
              "\n",
              "    .dataframe thead th {\n",
              "        text-align: right;\n",
              "    }\n",
              "</style>\n",
              "<table border=\"1\" class=\"dataframe\">\n",
              "  <thead>\n",
              "    <tr style=\"text-align: right;\">\n",
              "      <th></th>\n",
              "      <th>latitude</th>\n",
              "      <th>longitude</th>\n",
              "      <th>address</th>\n",
              "    </tr>\n",
              "  </thead>\n",
              "  <tbody>\n",
              "    <tr>\n",
              "      <th>0</th>\n",
              "      <td>12.971598</td>\n",
              "      <td>77.594566</td>\n",
              "      <td>St. Joseph's Indian High School, Vittal Mallya...</td>\n",
              "    </tr>\n",
              "    <tr>\n",
              "      <th>1</th>\n",
              "      <td>19.076090</td>\n",
              "      <td>72.877426</td>\n",
              "      <td>Lal Bahadur Shastri Marg, Zone 5, Mumbai - 400...</td>\n",
              "    </tr>\n",
              "    <tr>\n",
              "      <th>2</th>\n",
              "      <td>28.704060</td>\n",
              "      <td>77.102493</td>\n",
              "      <td>unnamed road, Rohini, - 110083, Delhi, India</td>\n",
              "    </tr>\n",
              "    <tr>\n",
              "      <th>3</th>\n",
              "      <td>12.971598</td>\n",
              "      <td>77.594566</td>\n",
              "      <td>St. Joseph's Indian High School, Vittal Mallya...</td>\n",
              "    </tr>\n",
              "    <tr>\n",
              "      <th>4</th>\n",
              "      <td>19.076090</td>\n",
              "      <td>72.877426</td>\n",
              "      <td>Lal Bahadur Shastri Marg, Zone 5, Mumbai - 400...</td>\n",
              "    </tr>\n",
              "    <tr>\n",
              "      <th>5</th>\n",
              "      <td>28.704060</td>\n",
              "      <td>77.102493</td>\n",
              "      <td>unnamed road, Rohini, - 110083, Delhi, India</td>\n",
              "    </tr>\n",
              "    <tr>\n",
              "      <th>6</th>\n",
              "      <td>12.971598</td>\n",
              "      <td>77.594566</td>\n",
              "      <td>St. Joseph's Indian High School, Vittal Mallya...</td>\n",
              "    </tr>\n",
              "    <tr>\n",
              "      <th>7</th>\n",
              "      <td>19.076090</td>\n",
              "      <td>72.877426</td>\n",
              "      <td>Lal Bahadur Shastri Marg, Zone 5, Mumbai - 400...</td>\n",
              "    </tr>\n",
              "    <tr>\n",
              "      <th>8</th>\n",
              "      <td>28.704060</td>\n",
              "      <td>77.102493</td>\n",
              "      <td>unnamed road, Rohini, - 110083, Delhi, India</td>\n",
              "    </tr>\n",
              "  </tbody>\n",
              "</table>\n",
              "</div>\n",
              "    <div class=\"colab-df-buttons\">\n",
              "\n",
              "  <div class=\"colab-df-container\">\n",
              "    <button class=\"colab-df-convert\" onclick=\"convertToInteractive('df-19e1935f-1801-4fcb-b118-fc6fbfb44e8c')\"\n",
              "            title=\"Convert this dataframe to an interactive table.\"\n",
              "            style=\"display:none;\">\n",
              "\n",
              "  <svg xmlns=\"http://www.w3.org/2000/svg\" height=\"24px\" viewBox=\"0 -960 960 960\">\n",
              "    <path d=\"M120-120v-720h720v720H120Zm60-500h600v-160H180v160Zm220 220h160v-160H400v160Zm0 220h160v-160H400v160ZM180-400h160v-160H180v160Zm440 0h160v-160H620v160ZM180-180h160v-160H180v160Zm440 0h160v-160H620v160Z\"/>\n",
              "  </svg>\n",
              "    </button>\n",
              "\n",
              "  <style>\n",
              "    .colab-df-container {\n",
              "      display:flex;\n",
              "      gap: 12px;\n",
              "    }\n",
              "\n",
              "    .colab-df-convert {\n",
              "      background-color: #E8F0FE;\n",
              "      border: none;\n",
              "      border-radius: 50%;\n",
              "      cursor: pointer;\n",
              "      display: none;\n",
              "      fill: #1967D2;\n",
              "      height: 32px;\n",
              "      padding: 0 0 0 0;\n",
              "      width: 32px;\n",
              "    }\n",
              "\n",
              "    .colab-df-convert:hover {\n",
              "      background-color: #E2EBFA;\n",
              "      box-shadow: 0px 1px 2px rgba(60, 64, 67, 0.3), 0px 1px 3px 1px rgba(60, 64, 67, 0.15);\n",
              "      fill: #174EA6;\n",
              "    }\n",
              "\n",
              "    .colab-df-buttons div {\n",
              "      margin-bottom: 4px;\n",
              "    }\n",
              "\n",
              "    [theme=dark] .colab-df-convert {\n",
              "      background-color: #3B4455;\n",
              "      fill: #D2E3FC;\n",
              "    }\n",
              "\n",
              "    [theme=dark] .colab-df-convert:hover {\n",
              "      background-color: #434B5C;\n",
              "      box-shadow: 0px 1px 3px 1px rgba(0, 0, 0, 0.15);\n",
              "      filter: drop-shadow(0px 1px 2px rgba(0, 0, 0, 0.3));\n",
              "      fill: #FFFFFF;\n",
              "    }\n",
              "  </style>\n",
              "\n",
              "    <script>\n",
              "      const buttonEl =\n",
              "        document.querySelector('#df-19e1935f-1801-4fcb-b118-fc6fbfb44e8c button.colab-df-convert');\n",
              "      buttonEl.style.display =\n",
              "        google.colab.kernel.accessAllowed ? 'block' : 'none';\n",
              "\n",
              "      async function convertToInteractive(key) {\n",
              "        const element = document.querySelector('#df-19e1935f-1801-4fcb-b118-fc6fbfb44e8c');\n",
              "        const dataTable =\n",
              "          await google.colab.kernel.invokeFunction('convertToInteractive',\n",
              "                                                    [key], {});\n",
              "        if (!dataTable) return;\n",
              "\n",
              "        const docLinkHtml = 'Like what you see? Visit the ' +\n",
              "          '<a target=\"_blank\" href=https://colab.research.google.com/notebooks/data_table.ipynb>data table notebook</a>'\n",
              "          + ' to learn more about interactive tables.';\n",
              "        element.innerHTML = '';\n",
              "        dataTable['output_type'] = 'display_data';\n",
              "        await google.colab.output.renderOutput(dataTable, element);\n",
              "        const docLink = document.createElement('div');\n",
              "        docLink.innerHTML = docLinkHtml;\n",
              "        element.appendChild(docLink);\n",
              "      }\n",
              "    </script>\n",
              "  </div>\n",
              "\n",
              "\n",
              "<div id=\"df-faf48acd-36af-41d2-8285-b09b3ff9ecd5\">\n",
              "  <button class=\"colab-df-quickchart\" onclick=\"quickchart('df-faf48acd-36af-41d2-8285-b09b3ff9ecd5')\"\n",
              "            title=\"Suggest charts\"\n",
              "            style=\"display:none;\">\n",
              "\n",
              "<svg xmlns=\"http://www.w3.org/2000/svg\" height=\"24px\"viewBox=\"0 0 24 24\"\n",
              "     width=\"24px\">\n",
              "    <g>\n",
              "        <path d=\"M19 3H5c-1.1 0-2 .9-2 2v14c0 1.1.9 2 2 2h14c1.1 0 2-.9 2-2V5c0-1.1-.9-2-2-2zM9 17H7v-7h2v7zm4 0h-2V7h2v10zm4 0h-2v-4h2v4z\"/>\n",
              "    </g>\n",
              "</svg>\n",
              "  </button>\n",
              "\n",
              "<style>\n",
              "  .colab-df-quickchart {\n",
              "      --bg-color: #E8F0FE;\n",
              "      --fill-color: #1967D2;\n",
              "      --hover-bg-color: #E2EBFA;\n",
              "      --hover-fill-color: #174EA6;\n",
              "      --disabled-fill-color: #AAA;\n",
              "      --disabled-bg-color: #DDD;\n",
              "  }\n",
              "\n",
              "  [theme=dark] .colab-df-quickchart {\n",
              "      --bg-color: #3B4455;\n",
              "      --fill-color: #D2E3FC;\n",
              "      --hover-bg-color: #434B5C;\n",
              "      --hover-fill-color: #FFFFFF;\n",
              "      --disabled-bg-color: #3B4455;\n",
              "      --disabled-fill-color: #666;\n",
              "  }\n",
              "\n",
              "  .colab-df-quickchart {\n",
              "    background-color: var(--bg-color);\n",
              "    border: none;\n",
              "    border-radius: 50%;\n",
              "    cursor: pointer;\n",
              "    display: none;\n",
              "    fill: var(--fill-color);\n",
              "    height: 32px;\n",
              "    padding: 0;\n",
              "    width: 32px;\n",
              "  }\n",
              "\n",
              "  .colab-df-quickchart:hover {\n",
              "    background-color: var(--hover-bg-color);\n",
              "    box-shadow: 0 1px 2px rgba(60, 64, 67, 0.3), 0 1px 3px 1px rgba(60, 64, 67, 0.15);\n",
              "    fill: var(--button-hover-fill-color);\n",
              "  }\n",
              "\n",
              "  .colab-df-quickchart-complete:disabled,\n",
              "  .colab-df-quickchart-complete:disabled:hover {\n",
              "    background-color: var(--disabled-bg-color);\n",
              "    fill: var(--disabled-fill-color);\n",
              "    box-shadow: none;\n",
              "  }\n",
              "\n",
              "  .colab-df-spinner {\n",
              "    border: 2px solid var(--fill-color);\n",
              "    border-color: transparent;\n",
              "    border-bottom-color: var(--fill-color);\n",
              "    animation:\n",
              "      spin 1s steps(1) infinite;\n",
              "  }\n",
              "\n",
              "  @keyframes spin {\n",
              "    0% {\n",
              "      border-color: transparent;\n",
              "      border-bottom-color: var(--fill-color);\n",
              "      border-left-color: var(--fill-color);\n",
              "    }\n",
              "    20% {\n",
              "      border-color: transparent;\n",
              "      border-left-color: var(--fill-color);\n",
              "      border-top-color: var(--fill-color);\n",
              "    }\n",
              "    30% {\n",
              "      border-color: transparent;\n",
              "      border-left-color: var(--fill-color);\n",
              "      border-top-color: var(--fill-color);\n",
              "      border-right-color: var(--fill-color);\n",
              "    }\n",
              "    40% {\n",
              "      border-color: transparent;\n",
              "      border-right-color: var(--fill-color);\n",
              "      border-top-color: var(--fill-color);\n",
              "    }\n",
              "    60% {\n",
              "      border-color: transparent;\n",
              "      border-right-color: var(--fill-color);\n",
              "    }\n",
              "    80% {\n",
              "      border-color: transparent;\n",
              "      border-right-color: var(--fill-color);\n",
              "      border-bottom-color: var(--fill-color);\n",
              "    }\n",
              "    90% {\n",
              "      border-color: transparent;\n",
              "      border-bottom-color: var(--fill-color);\n",
              "    }\n",
              "  }\n",
              "</style>\n",
              "\n",
              "  <script>\n",
              "    async function quickchart(key) {\n",
              "      const quickchartButtonEl =\n",
              "        document.querySelector('#' + key + ' button');\n",
              "      quickchartButtonEl.disabled = true;  // To prevent multiple clicks.\n",
              "      quickchartButtonEl.classList.add('colab-df-spinner');\n",
              "      try {\n",
              "        const charts = await google.colab.kernel.invokeFunction(\n",
              "            'suggestCharts', [key], {});\n",
              "      } catch (error) {\n",
              "        console.error('Error during call to suggestCharts:', error);\n",
              "      }\n",
              "      quickchartButtonEl.classList.remove('colab-df-spinner');\n",
              "      quickchartButtonEl.classList.add('colab-df-quickchart-complete');\n",
              "    }\n",
              "    (() => {\n",
              "      let quickchartButtonEl =\n",
              "        document.querySelector('#df-faf48acd-36af-41d2-8285-b09b3ff9ecd5 button');\n",
              "      quickchartButtonEl.style.display =\n",
              "        google.colab.kernel.accessAllowed ? 'block' : 'none';\n",
              "    })();\n",
              "  </script>\n",
              "</div>\n",
              "\n",
              "  <div id=\"id_391a3d37-2763-40e6-a515-55ebd94d7419\">\n",
              "    <style>\n",
              "      .colab-df-generate {\n",
              "        background-color: #E8F0FE;\n",
              "        border: none;\n",
              "        border-radius: 50%;\n",
              "        cursor: pointer;\n",
              "        display: none;\n",
              "        fill: #1967D2;\n",
              "        height: 32px;\n",
              "        padding: 0 0 0 0;\n",
              "        width: 32px;\n",
              "      }\n",
              "\n",
              "      .colab-df-generate:hover {\n",
              "        background-color: #E2EBFA;\n",
              "        box-shadow: 0px 1px 2px rgba(60, 64, 67, 0.3), 0px 1px 3px 1px rgba(60, 64, 67, 0.15);\n",
              "        fill: #174EA6;\n",
              "      }\n",
              "\n",
              "      [theme=dark] .colab-df-generate {\n",
              "        background-color: #3B4455;\n",
              "        fill: #D2E3FC;\n",
              "      }\n",
              "\n",
              "      [theme=dark] .colab-df-generate:hover {\n",
              "        background-color: #434B5C;\n",
              "        box-shadow: 0px 1px 3px 1px rgba(0, 0, 0, 0.15);\n",
              "        filter: drop-shadow(0px 1px 2px rgba(0, 0, 0, 0.3));\n",
              "        fill: #FFFFFF;\n",
              "      }\n",
              "    </style>\n",
              "    <button class=\"colab-df-generate\" onclick=\"generateWithVariable('df')\"\n",
              "            title=\"Generate code using this dataframe.\"\n",
              "            style=\"display:none;\">\n",
              "\n",
              "  <svg xmlns=\"http://www.w3.org/2000/svg\" height=\"24px\"viewBox=\"0 0 24 24\"\n",
              "       width=\"24px\">\n",
              "    <path d=\"M7,19H8.4L18.45,9,17,7.55,7,17.6ZM5,21V16.75L18.45,3.32a2,2,0,0,1,2.83,0l1.4,1.43a1.91,1.91,0,0,1,.58,1.4,1.91,1.91,0,0,1-.58,1.4L9.25,21ZM18.45,9,17,7.55Zm-12,3A5.31,5.31,0,0,0,4.9,8.1,5.31,5.31,0,0,0,1,6.5,5.31,5.31,0,0,0,4.9,4.9,5.31,5.31,0,0,0,6.5,1,5.31,5.31,0,0,0,8.1,4.9,5.31,5.31,0,0,0,12,6.5,5.46,5.46,0,0,0,6.5,12Z\"/>\n",
              "  </svg>\n",
              "    </button>\n",
              "    <script>\n",
              "      (() => {\n",
              "      const buttonEl =\n",
              "        document.querySelector('#id_391a3d37-2763-40e6-a515-55ebd94d7419 button.colab-df-generate');\n",
              "      buttonEl.style.display =\n",
              "        google.colab.kernel.accessAllowed ? 'block' : 'none';\n",
              "\n",
              "      buttonEl.onclick = () => {\n",
              "        google.colab.notebook.generateWithVariable('df');\n",
              "      }\n",
              "      })();\n",
              "    </script>\n",
              "  </div>\n",
              "\n",
              "    </div>\n",
              "  </div>\n"
            ],
            "application/vnd.google.colaboratory.intrinsic+json": {
              "type": "dataframe",
              "variable_name": "df",
              "summary": "{\n  \"name\": \"df\",\n  \"rows\": 9,\n  \"fields\": [\n    {\n      \"column\": \"latitude\",\n      \"properties\": {\n        \"dtype\": \"number\",\n        \"std\": 6.8690700742568485,\n        \"min\": 12.971598,\n        \"max\": 28.70406,\n        \"num_unique_values\": 3,\n        \"samples\": [\n          12.971598,\n          19.07609,\n          28.70406\n        ],\n        \"semantic_type\": \"\",\n        \"description\": \"\"\n      }\n    },\n    {\n      \"column\": \"longitude\",\n      \"properties\": {\n        \"dtype\": \"number\",\n        \"std\": 2.2456829910802742,\n        \"min\": 72.877426,\n        \"max\": 77.594566,\n        \"num_unique_values\": 3,\n        \"samples\": [\n          77.594566,\n          72.877426,\n          77.102493\n        ],\n        \"semantic_type\": \"\",\n        \"description\": \"\"\n      }\n    },\n    {\n      \"column\": \"address\",\n      \"properties\": {\n        \"dtype\": \"category\",\n        \"num_unique_values\": 3,\n        \"samples\": [\n          \"St. Joseph's Indian High School, Vittal Mallya Road, Shanthala Nagar, Bengaluru - 560001, Karnataka, India\",\n          \"Lal Bahadur Shastri Marg, Zone 5, Mumbai - 400070, Maharashtra, India\",\n          \"unnamed road, Rohini, - 110083, Delhi, India\"\n        ],\n        \"semantic_type\": \"\",\n        \"description\": \"\"\n      }\n    }\n  ]\n}"
            }
          },
          "metadata": {},
          "execution_count": 12
        }
      ]
    },
    {
      "cell_type": "code",
      "source": [
        "import pandas as pd\n",
        "import time\n",
        "\n",
        "# Split data into batches\n",
        "batch_size = 100  # Define a batch size suitable for rate limits\n",
        "for i in range(0, len(df), batch_size):\n",
        "    batch = df.iloc[i:i + batch_size]\n",
        "    batch['address'] = batch.apply(lambda row: reverse_geocode(row['latitude'], row['longitude']), axis=1)\n",
        "    df.update(batch)  # Update the original DataFrame\n",
        "    time.sleep(10)  # Pause for 10 seconds to avoid hitting rate limits\n"
      ],
      "metadata": {
        "colab": {
          "base_uri": "https://localhost:8080/"
        },
        "id": "jbKVDvO2yy4j",
        "outputId": "cd992ac9-ce3c-4e30-d201-5b57f32bac06"
      },
      "execution_count": 13,
      "outputs": [
        {
          "output_type": "stream",
          "name": "stdout",
          "text": [
            "St. Joseph's Indian High School, Vittal Mallya Road, Shanthala Nagar, Bengaluru - 560001, Karnataka, India\n",
            "Lal Bahadur Shastri Marg, Zone 5, Mumbai - 400070, Maharashtra, India\n",
            "unnamed road, Rohini, - 110083, Delhi, India\n",
            "St. Joseph's Indian High School, Vittal Mallya Road, Shanthala Nagar, Bengaluru - 560001, Karnataka, India\n",
            "Lal Bahadur Shastri Marg, Zone 5, Mumbai - 400070, Maharashtra, India\n",
            "unnamed road, Rohini, - 110083, Delhi, India\n",
            "St. Joseph's Indian High School, Vittal Mallya Road, Shanthala Nagar, Bengaluru - 560001, Karnataka, India\n",
            "Lal Bahadur Shastri Marg, Zone 5, Mumbai - 400070, Maharashtra, India\n",
            "unnamed road, Rohini, - 110083, Delhi, India\n"
          ]
        }
      ]
    },
    {
      "cell_type": "markdown",
      "source": [
        "# LocationIQ - 5000 requests/day & 2 requests/second"
      ],
      "metadata": {
        "id": "b8jTNmMQ0tZf"
      }
    },
    {
      "cell_type": "code",
      "source": [
        "import pandas as pd\n",
        "import requests\n",
        "from tqdm import tqdm\n",
        "import time\n",
        "\n",
        "# Your LocationIQ API Key\n",
        "api_key = \"pk.6c113e58f352c3a7da10a60f39506bf2\"\n",
        "\n",
        "# Sample DataFrame with coordinates\n",
        "data = {\n",
        "    'latitude': [\n",
        "        40.712776, 34.052235, 41.878113, 29.760427, 33.448376,\n",
        "        39.739236, 25.761680, 32.776665, 47.606209, 39.952583,\n",
        "        37.774929, 42.360082, 36.162664, 38.627003, 35.227085,\n",
        "        30.267153, 45.515232, 36.169941, 33.749099, 40.440624\n",
        "    ],\n",
        "    'longitude': [\n",
        "        -74.005974, -118.243683, -87.629799, -95.369804, -112.074036,\n",
        "        -104.990251, -80.191790, -96.796989, -122.332069, -75.165222,\n",
        "        -122.419418, -71.058880, -86.781601, -90.199404, -80.843124,\n",
        "        -97.743057, -122.678406, -115.139832, -84.388977, -79.995888\n",
        "    ]\n",
        "}\n",
        "\n",
        "df = pd.DataFrame(data)\n",
        "\n",
        "# Function to reverse geocode using LocationIQ\n",
        "def reverse_geocode(lat, lon):\n",
        "    try:\n",
        "        url = f\"https://us1.locationiq.com/v1/reverse.php?key={api_key}&lat={lat}&lon={lon}&format=json\"\n",
        "        response = requests.get(url)\n",
        "        if response.status_code == 200:\n",
        "            data = response.json()\n",
        "            return data.get('display_name')\n",
        "        else:\n",
        "            print(f\"Error: Received status code {response.status_code} for coordinates ({lat}, {lon})\")\n",
        "            print(\"Response:\", response.text)\n",
        "            return None\n",
        "    except Exception as e:\n",
        "        print(f\"Exception occurred for coordinates ({lat}, {lon}): {e}\")\n",
        "        return None\n",
        "\n",
        "# Apply reverse geocoding for each row\n",
        "tqdm.pandas()  # Enable progress bar for pandas apply\n",
        "df['address'] = df.progress_apply(lambda row: reverse_geocode(row['latitude'], row['longitude']), axis=1)\n",
        "\n",
        "# Show the resulting DataFrame\n",
        "print(df)\n"
      ],
      "metadata": {
        "colab": {
          "base_uri": "https://localhost:8080/"
        },
        "id": "6wLZ12lozcF7",
        "outputId": "6f2a3a6b-51a2-4117-f79e-648e274fd619"
      },
      "execution_count": 19,
      "outputs": [
        {
          "output_type": "stream",
          "name": "stderr",
          "text": [
            " 35%|███▌      | 7/20 [00:01<00:01,  6.51it/s]"
          ]
        },
        {
          "output_type": "stream",
          "name": "stdout",
          "text": [
            "Error: Received status code 429 for coordinates (33.448376, -112.074036)\n",
            "Response: {\"error\":\"Rate Limited Second\"}\n",
            "Error: Received status code 429 for coordinates (39.739236, -104.990251)\n",
            "Response: {\"error\":\"Rate Limited Second\"}\n"
          ]
        },
        {
          "output_type": "stream",
          "name": "stderr",
          "text": [
            " 45%|████▌     | 9/20 [00:01<00:01,  6.84it/s]"
          ]
        },
        {
          "output_type": "stream",
          "name": "stdout",
          "text": [
            "Error: Received status code 429 for coordinates (25.76168, -80.19179)\n",
            "Response: {\"error\":\"Rate Limited Second\"}\n",
            "Error: Received status code 429 for coordinates (32.776665, -96.796989)\n",
            "Response: {\"error\":\"Rate Limited Second\"}\n"
          ]
        },
        {
          "output_type": "stream",
          "name": "stderr",
          "text": [
            " 65%|██████▌   | 13/20 [00:01<00:01,  6.59it/s]"
          ]
        },
        {
          "output_type": "stream",
          "name": "stdout",
          "text": [
            "Error: Received status code 429 for coordinates (37.774929, -122.419418)\n",
            "Response: {\"error\":\"Rate Limited Second\"}\n",
            "Error: Received status code 429 for coordinates (42.360082, -71.05888)\n",
            "Response: {\"error\":\"Rate Limited Second\"}\n"
          ]
        },
        {
          "output_type": "stream",
          "name": "stderr",
          "text": [
            " 75%|███████▌  | 15/20 [00:02<00:00,  6.70it/s]"
          ]
        },
        {
          "output_type": "stream",
          "name": "stdout",
          "text": [
            "Error: Received status code 429 for coordinates (36.162664, -86.781601)\n",
            "Response: {\"error\":\"Rate Limited Second\"}\n",
            "Error: Received status code 429 for coordinates (38.627003, -90.199404)\n",
            "Response: {\"error\":\"Rate Limited Second\"}\n"
          ]
        },
        {
          "output_type": "stream",
          "name": "stderr",
          "text": [
            " 85%|████████▌ | 17/20 [00:02<00:00,  6.41it/s]"
          ]
        },
        {
          "output_type": "stream",
          "name": "stdout",
          "text": [
            "Error: Received status code 429 for coordinates (35.227085, -80.843124)\n",
            "Response: {\"error\":\"Rate Limited Second\"}\n"
          ]
        },
        {
          "output_type": "stream",
          "name": "stderr",
          "text": [
            " 95%|█████████▌| 19/20 [00:03<00:00,  5.08it/s]"
          ]
        },
        {
          "output_type": "stream",
          "name": "stdout",
          "text": [
            "Error: Received status code 429 for coordinates (36.169941, -115.139832)\n",
            "Response: {\"error\":\"Rate Limited Second\"}\n"
          ]
        },
        {
          "output_type": "stream",
          "name": "stderr",
          "text": [
            "100%|██████████| 20/20 [00:03<00:00,  5.64it/s]"
          ]
        },
        {
          "output_type": "stream",
          "name": "stdout",
          "text": [
            "Error: Received status code 429 for coordinates (33.749099, -84.388977)\n",
            "Response: {\"error\":\"Rate Limited Second\"}\n",
            "     latitude   longitude                                            address\n",
            "0   40.712776  -74.005974  260, Broadway, Civic Center, Manhattan, New Yo...\n",
            "1   34.052235 -118.243683  Los Angeles Police Department Headquarters, So...\n",
            "2   41.878113  -87.629799  Union League Club, 65, West Jackson Boulevard,...\n",
            "3   29.760427  -95.369804  West Walker Tunnel, Houston, Harris County, Te...\n",
            "4   33.448376 -112.074036                                               None\n",
            "5   39.739236 -104.990251                                               None\n",
            "6   25.761680  -80.191790                                               None\n",
            "7   32.776665  -96.796989                                               None\n",
            "8   47.606209 -122.332069  909, 5th Avenue, Central Business District, Se...\n",
            "9   39.952583  -75.165222  1500S, Market Street, Rittenhouse, Philadelphi...\n",
            "10  37.774929 -122.419418                                               None\n",
            "11  42.360082  -71.058880                                               None\n",
            "12  36.162664  -86.781601                                               None\n",
            "13  38.627003  -90.199404                                               None\n",
            "14  35.227085  -80.843124                                               None\n",
            "15  30.267153  -97.743057  101 1/2, East 5th Street, Downtown, Austin, Tr...\n",
            "16  45.515232 -122.678406  Southwest Madison Street, University District,...\n",
            "17  36.169941 -115.139832                                               None\n",
            "18  33.749099  -84.388977                                               None\n",
            "19  40.440624  -79.995888  Grant Street, Central Business District, Pitts...\n"
          ]
        },
        {
          "output_type": "stream",
          "name": "stderr",
          "text": [
            "\n"
          ]
        }
      ]
    },
    {
      "cell_type": "code",
      "source": [
        "import pandas as pd\n",
        "import requests\n",
        "from tqdm import tqdm\n",
        "import time\n",
        "\n",
        "# Your LocationIQ API Key\n",
        "api_key = \"pk.6c113e58f352c3a7da10a60f39506bf2\"\n",
        "\n",
        "# Sample DataFrame with coordinates\n",
        "data = {\n",
        "    'latitude': [\n",
        "        40.712776, 34.052235, 41.878113, 29.760427, 33.448376,\n",
        "        39.739236, 25.761680, 32.776665, 47.606209, 39.952583,\n",
        "        37.774929, 42.360082, 36.162664, 38.627003, 35.227085,\n",
        "        30.267153, 45.515232, 36.169941, 33.749099, 40.440624\n",
        "    ],\n",
        "    'longitude': [\n",
        "        -74.005974, -118.243683, -87.629799, -95.369804, -112.074036,\n",
        "        -104.990251, -80.191790, -96.796989, -122.332069, -75.165222,\n",
        "        -122.419418, -71.058880, -86.781601, -90.199404, -80.843124,\n",
        "        -97.743057, -122.678406, -115.139832, -84.388977, -79.995888\n",
        "    ]\n",
        "}\n",
        "df = pd.DataFrame(data)\n",
        "\n",
        "# Function to reverse geocode using LocationIQ\n",
        "def reverse_geocode(lat, lon):\n",
        "    try:\n",
        "        url = f\"https://us1.locationiq.com/v1/reverse.php?key={api_key}&lat={lat}&lon={lon}&format=json\"\n",
        "        response = requests.get(url)\n",
        "        if response.status_code == 200:\n",
        "            data = response.json()\n",
        "            return data.get('display_name')\n",
        "        elif response.status_code == 429:\n",
        "            # Rate limit exceeded, wait and retry\n",
        "            print(f\"Rate limit exceeded for coordinates ({lat}, {lon}), retrying after delay...\")\n",
        "            time.sleep(1)  # Wait 1 second before retrying\n",
        "            response = requests.get(url)\n",
        "            if response.status_code == 200:\n",
        "                data = response.json()\n",
        "                return data.get('display_name')\n",
        "            else:\n",
        "                print(f\"Failed again with status code {response.status_code}\")\n",
        "                return None\n",
        "        else:\n",
        "            print(f\"Error: Received status code {response.status_code} for coordinates ({lat}, {lon})\")\n",
        "            return None\n",
        "    except Exception as e:\n",
        "        print(f\"Exception occurred for coordinates ({lat}, {lon}): {e}\")\n",
        "        return None\n",
        "\n",
        "# Apply reverse geocoding for each row with a delay between requests\n",
        "tqdm.pandas()  # Enable progress bar for pandas apply\n",
        "df['address'] = df.progress_apply(lambda row: reverse_geocode(row['latitude'], row['longitude']), axis=1)\n",
        "\n",
        "# Show the resulting DataFrame\n",
        "print(df)\n"
      ],
      "metadata": {
        "colab": {
          "base_uri": "https://localhost:8080/"
        },
        "id": "9EmCqmOb1P42",
        "outputId": "75a658cf-17c0-4c8e-e574-34a1b58b784e"
      },
      "execution_count": 21,
      "outputs": [
        {
          "output_type": "stream",
          "name": "stderr",
          "text": [
            " 10%|█         | 2/20 [00:00<00:01, 15.35it/s]"
          ]
        },
        {
          "output_type": "stream",
          "name": "stdout",
          "text": [
            "Rate limit exceeded for coordinates (41.878113, -87.629799), retrying after delay...\n"
          ]
        },
        {
          "output_type": "stream",
          "name": "stderr",
          "text": [
            " 35%|███▌      | 7/20 [00:02<00:04,  3.14it/s]"
          ]
        },
        {
          "output_type": "stream",
          "name": "stdout",
          "text": [
            "Rate limit exceeded for coordinates (25.76168, -80.19179), retrying after delay...\n"
          ]
        },
        {
          "output_type": "stream",
          "name": "stderr",
          "text": [
            " 55%|█████▌    | 11/20 [00:03<00:02,  3.31it/s]"
          ]
        },
        {
          "output_type": "stream",
          "name": "stdout",
          "text": [
            "Rate limit exceeded for coordinates (37.774929, -122.419418), retrying after delay...\n"
          ]
        },
        {
          "output_type": "stream",
          "name": "stderr",
          "text": [
            " 75%|███████▌  | 15/20 [00:06<00:01,  2.57it/s]"
          ]
        },
        {
          "output_type": "stream",
          "name": "stdout",
          "text": [
            "Rate limit exceeded for coordinates (35.227085, -80.843124), retrying after delay...\n"
          ]
        },
        {
          "output_type": "stream",
          "name": "stderr",
          "text": [
            " 95%|█████████▌| 19/20 [00:08<00:00,  2.88it/s]"
          ]
        },
        {
          "output_type": "stream",
          "name": "stdout",
          "text": [
            "Rate limit exceeded for coordinates (33.749099, -84.388977), retrying after delay...\n"
          ]
        },
        {
          "output_type": "stream",
          "name": "stderr",
          "text": [
            "100%|██████████| 20/20 [00:09<00:00,  2.09it/s]"
          ]
        },
        {
          "output_type": "stream",
          "name": "stdout",
          "text": [
            "     latitude   longitude                                            address\n",
            "0   40.712776  -74.005974  260, Broadway, Civic Center, Manhattan, New Yo...\n",
            "1   34.052235 -118.243683  Los Angeles Police Department Headquarters, So...\n",
            "2   41.878113  -87.629799  Union League Club, 65, West Jackson Boulevard,...\n",
            "3   29.760427  -95.369804  West Walker Tunnel, Houston, Harris County, Te...\n",
            "4   33.448376 -112.074036  2, North Central Avenue, Downtown, Phoenix, Ma...\n",
            "5   39.739236 -104.990251  Bannock Central Plaza, Golden Triangle, Denver...\n",
            "6   25.761680  -80.191790  1221, Brickell Avenue, Miami Financial Distric...\n",
            "7   32.776665  -96.796989  Dallas City Hall, 1500, Marilla Street, Downto...\n",
            "8   47.606209 -122.332069  909, 5th Avenue, Central Business District, Se...\n",
            "9   39.952583  -75.165222  1500S, Market Street, Rittenhouse, Philadelphi...\n",
            "10  37.774929 -122.419418  Market Street & South Van Ness Avenue, Market ...\n",
            "11  42.360082  -71.058880  1, Main Plaza, Dock Square, Boston, Suffolk Co...\n",
            "12  36.162664  -86.781601  The Cumberland, 555, Church Street, Downtown N...\n",
            "13  38.627003  -90.199404  Saint Louis City Hall, 1200, Market Street, Do...\n",
            "14  35.227085  -80.843124  Industry, East Trade Street, Uptown, Charlotte...\n",
            "15  30.267153  -97.743057  101 1/2, East 5th Street, Downtown, Austin, Tr...\n",
            "16  45.515232 -122.678406  Southwest Madison Street, University District,...\n",
            "17  36.169941 -115.139832  The Ogden, 150, North 6th Street, Las Vegas, C...\n",
            "18  33.749099  -84.388977  Joseph and Elizabeth Brown, Capitol Square Sou...\n",
            "19  40.440624  -79.995888  Grant Street, Central Business District, Pitts...\n"
          ]
        },
        {
          "output_type": "stream",
          "name": "stderr",
          "text": [
            "\n"
          ]
        }
      ]
    },
    {
      "cell_type": "markdown",
      "source": [
        "# GeoAPIfy - 3,000 requests per day"
      ],
      "metadata": {
        "id": "F-7iDdTE4P6v"
      }
    },
    {
      "cell_type": "code",
      "source": [
        "import requests\n",
        "from requests.structures import CaseInsensitiveDict\n",
        "\n",
        "url = \"https://api.geoapify.com/v1/geocode/reverse?lat=51.21709661403662&lon=6.7782883744862374&apiKey=3443ebbd78b547deba772a75c7ba651c\"\n",
        "\n",
        "headers = CaseInsensitiveDict()\n",
        "headers[\"Accept\"] = \"application/json\"\n",
        "\n",
        "resp = requests.get(url, headers=headers)\n",
        "\n",
        "if resp.status_code == 200:\n",
        "    print(resp.json())\n",
        "else:\n",
        "    print(f\"Error: Received status code {resp.status_code}\")\n",
        "    print(resp.text)\n"
      ],
      "metadata": {
        "colab": {
          "base_uri": "https://localhost:8080/"
        },
        "id": "80llx5eg2bk7",
        "outputId": "c8dc4092-99d8-47aa-a9f6-087615c0a51e"
      },
      "execution_count": 24,
      "outputs": [
        {
          "output_type": "stream",
          "name": "stdout",
          "text": [
            "{'type': 'FeatureCollection', 'features': [{'type': 'Feature', 'properties': {'datasource': {'sourcename': 'openstreetmap', 'attribution': '© OpenStreetMap contributors', 'license': 'Open Database License', 'url': 'https://www.openstreetmap.org/copyright'}, 'name': 'Parkhaus Kö Talstraße', 'country': 'Germany', 'country_code': 'de', 'state': 'North Rhine – Westphalia', 'city': 'Dusseldorf', 'postcode': '40217', 'district': 'Stadtbezirk 3', 'suburb': 'Friedrichstadt', 'street': 'Talstraße', 'housenumber': '1', 'lon': 6.778318997521949, 'lat': 51.21710155, 'state_code': 'NW', 'distance': 0, 'result_type': 'amenity', 'formatted': 'Parkhaus Kö Talstraße, Talstraße 1, 40217 Dusseldorf, Germany', 'address_line1': 'Parkhaus Kö Talstraße', 'address_line2': 'Talstraße 1, 40217 Dusseldorf, Germany', 'category': 'parking.cars', 'timezone': {'name': 'Europe/Berlin', 'offset_STD': '+01:00', 'offset_STD_seconds': 3600, 'offset_DST': '+02:00', 'offset_DST_seconds': 7200, 'abbreviation_STD': 'CET', 'abbreviation_DST': 'CEST'}, 'plus_code': '9F386Q8H+R8', 'rank': {'importance': 9.99999999995449e-06, 'popularity': 8.995467104553104}, 'place_id': '515fd9c0a7ff1c1b40599994ccfbc99b4940f00102f9010877d00800000000c002019203175061726b68617573204bc3b62054616c73747261c39f65'}, 'geometry': {'type': 'Point', 'coordinates': [6.778318997521949, 51.21710155]}, 'bbox': [6.7778088, 51.2169076, 6.7786914, 51.2173398]}], 'query': {'lat': 51.21709661403662, 'lon': 6.7782883744862374, 'plus_code': '9F386Q8H+R8'}}\n"
          ]
        }
      ]
    },
    {
      "cell_type": "code",
      "source": [
        "import requests\n",
        "\n",
        "api_key = \"YOUR_GEOAPIFY_API_KEY\"\n",
        "lat, lon = 40.712776, -74.005974\n",
        "url = f\"https://api.geoapify.com/v1/geocode/reverse?lat={lat}&lon={lon}&apiKey={api_key}\"\n",
        "response = requests.get(url)\n",
        "print(response.json())\n"
      ],
      "metadata": {
        "colab": {
          "base_uri": "https://localhost:8080/"
        },
        "id": "Um2k5-te4VIV",
        "outputId": "5817aede-bdb1-4cdd-f103-543f9184e581"
      },
      "execution_count": 23,
      "outputs": [
        {
          "output_type": "stream",
          "name": "stdout",
          "text": [
            "{'statusCode': 401, 'error': 'Unauthorized', 'message': 'Invalid apiKey'}\n"
          ]
        }
      ]
    },
    {
      "cell_type": "markdown",
      "source": [
        "# BigData - 50,000 free monthly requests"
      ],
      "metadata": {
        "id": "TtUttsb97iA7"
      }
    },
    {
      "cell_type": "code",
      "source": [
        "import requests\n",
        "import pandas as pd\n",
        "\n",
        "# Replace with your actual BigDataCloud API key\n",
        "api_key = \"bdc_0a72639907404712a732ef39d6cd28de\"\n",
        "\n",
        "# Sample DataFrame with latitude and longitude values\n",
        "data = {\n",
        "    'latitude': [40.712776, 34.052235, 41.878113, 29.760427, 33.448376],\n",
        "    'longitude': [-74.005974, -118.243683, -87.629799, -95.369804, -112.074036]\n",
        "}\n",
        "\n",
        "df = pd.DataFrame(data)\n",
        "\n",
        "# Function to reverse geocode using BigDataCloud\n",
        "def reverse_geocode(lat, lon):\n",
        "    url = f\"https://api.bigdatacloud.net/data/reverse-geocode-client?latitude={lat}&longitude={lon}&localityLanguage=en&key={api_key}\"\n",
        "\n",
        "    try:\n",
        "        response = requests.get(url)\n",
        "        response.raise_for_status()  # Raise an error for bad responses\n",
        "        return response.json()  # Return the JSON response\n",
        "    except requests.exceptions.HTTPError as err:\n",
        "        print(f\"HTTP error occurred for coordinates ({lat}, {lon}): {err}\")\n",
        "        return None\n",
        "    except Exception as err:\n",
        "        print(f\"An error occurred for coordinates ({lat}, {lon}): {err}\")\n",
        "        return None\n",
        "\n",
        "# Apply reverse geocoding to each row in the DataFrame\n",
        "addresses = []\n",
        "for index, row in df.iterrows():\n",
        "    result = reverse_geocode(row['latitude'], row['longitude'])\n",
        "\n",
        "    # Debugging: Print the API response\n",
        "    print(f\"API Response for ({row['latitude']}, {row['longitude']}): {result}\")\n",
        "\n",
        "    if result:\n",
        "        # Extract the full address; adjust these based on your needs\n",
        "        complete_address = result.get('address', {})\n",
        "        full_address = \", \".join(filter(None, [\n",
        "            complete_address.get('road', ''),\n",
        "            complete_address.get('suburb', ''),\n",
        "            complete_address.get('locality', ''),\n",
        "            complete_address.get('county', ''),\n",
        "            complete_address.get('state', ''),\n",
        "            complete_address.get('country', ''),\n",
        "            complete_address.get('postcode', '')\n",
        "        ]))\n",
        "        addresses.append(full_address.strip())  # Append the formatted full address\n",
        "    else:\n",
        "        addresses.append(None)\n",
        "\n",
        "# Add addresses to DataFrame\n",
        "df['address'] = addresses\n",
        "\n",
        "# Display the DataFrame with addresses\n",
        "print(df[['latitude', 'longitude', 'address']])\n"
      ],
      "metadata": {
        "colab": {
          "base_uri": "https://localhost:8080/"
        },
        "id": "VpWyxmQ64bVb",
        "outputId": "ec027404-12b3-4b82-8f17-d6a9687610c0"
      },
      "execution_count": 32,
      "outputs": [
        {
          "output_type": "stream",
          "name": "stdout",
          "text": [
            "API Response for (40.712776, -74.005974): {'latitude': 40.712776, 'lookupSource': 'coordinates', 'longitude': -74.005974, 'localityLanguageRequested': 'en', 'continent': 'North America', 'continentCode': 'NA', 'countryName': 'United States of America (the)', 'countryCode': 'US', 'principalSubdivision': 'New York', 'principalSubdivisionCode': 'US-NY', 'city': 'New York City', 'locality': 'Manhattan', 'postcode': '10007', 'plusCode': '87G7PX7V+4J', 'fips': {'state': '36', 'county': '061', 'countySubdivision': '44919', 'place': '51000'}, 'localityInfo': {'administrative': [{'name': 'United States of America (the)', 'description': 'country in North America', 'isoName': 'United States of America (the)', 'order': 3, 'adminLevel': 2, 'isoCode': 'US', 'wikidataId': 'Q30', 'geonameId': 6252001}, {'name': 'New York', 'description': 'state of the United States of America', 'isoName': 'New York', 'order': 5, 'adminLevel': 4, 'isoCode': 'US-NY', 'wikidataId': 'Q1384', 'geonameId': 5128638}, {'name': 'New York City', 'description': 'most populous city in the United States', 'order': 6, 'adminLevel': 5, 'wikidataId': 'Q60', 'geonameId': 5128581}, {'name': 'Manhattan', 'description': 'borough of New York City, New York, United States', 'order': 8, 'adminLevel': 7, 'wikidataId': 'Q11299', 'geonameId': 5125771}, {'name': 'New York County', 'description': 'county in New York state, United States of America', 'order': 10, 'adminLevel': 6, 'wikidataId': 'Q500416', 'geonameId': 5128594}], 'informative': [{'name': 'North America', 'description': 'continent', 'isoName': 'North America', 'order': 1, 'isoCode': 'NA', 'wikidataId': 'Q49', 'geonameId': 6255149}, {'name': 'Atlantic Ocean', 'description': 'ocean between Europe, Africa and the Americas', 'order': 2, 'wikidataId': 'Q97', 'geonameId': 3373405}, {'name': 'America/New_York', 'description': 'time zone', 'order': 4}, {'name': '36-51000', 'description': 'FIPS code', 'order': 7}, {'name': '36-061-44919', 'description': 'FIPS code', 'order': 9}, {'name': 'Manhattan', 'description': 'island in New York City, United States', 'order': 11, 'wikidataId': 'Q15063317', 'geonameId': 8479493}, {'name': '10007', 'description': 'postal code', 'order': 12}]}}\n",
            "API Response for (34.052235, -118.243683): {'latitude': 34.052235, 'lookupSource': 'coordinates', 'longitude': -118.243683, 'localityLanguageRequested': 'en', 'continent': 'North America', 'continentCode': 'NA', 'countryName': 'United States of America (the)', 'countryCode': 'US', 'principalSubdivision': 'California', 'principalSubdivisionCode': 'US-CA', 'city': 'Los Angeles', 'locality': 'Los Angeles', 'postcode': '90012', 'plusCode': '85633Q24+VG', 'fips': {'state': '06', 'county': '037', 'countySubdivision': '91750', 'place': '44000'}, 'localityInfo': {'administrative': [{'name': 'United States of America (the)', 'description': 'country in North America', 'isoName': 'United States of America (the)', 'order': 2, 'adminLevel': 2, 'isoCode': 'US', 'wikidataId': 'Q30', 'geonameId': 6252001}, {'name': 'California', 'description': 'state of the United States of America', 'isoName': 'California', 'order': 4, 'adminLevel': 4, 'isoCode': 'US-CA', 'wikidataId': 'Q99', 'geonameId': 5332921}, {'name': 'Los Angeles', 'description': 'largest city in California, United States of America', 'order': 6, 'adminLevel': 6, 'wikidataId': 'Q65', 'geonameId': 5368361}, {'name': 'Los Angeles County', 'description': 'county in California, United States', 'order': 7, 'adminLevel': 6, 'wikidataId': 'Q104994', 'geonameId': 5368381}], 'informative': [{'name': 'North America', 'description': 'continent', 'isoName': 'North America', 'order': 1, 'isoCode': 'NA', 'wikidataId': 'Q49', 'geonameId': 6255149}, {'name': 'America/Los_Angeles', 'description': 'time zone', 'order': 3}, {'name': 'Southern California', 'description': 'American geographic and cultural region', 'order': 5, 'wikidataId': 'Q844837'}, {'name': '06-44000', 'description': 'FIPS code', 'order': 8}, {'name': '06-037-91750', 'description': 'FIPS code', 'order': 9}, {'name': '90012', 'description': 'postal code', 'order': 10}]}}\n",
            "API Response for (41.878113, -87.629799): {'latitude': 41.878113, 'lookupSource': 'coordinates', 'longitude': -87.629799, 'localityLanguageRequested': 'en', 'continent': 'North America', 'continentCode': 'NA', 'countryName': 'United States of America (the)', 'countryCode': 'US', 'principalSubdivision': 'Illinois', 'principalSubdivisionCode': 'US-IL', 'city': 'Chicago', 'locality': 'Chicago', 'postcode': '60604', 'plusCode': '86HJV9HC+63', 'fips': {'state': '17', 'county': '031', 'countySubdivision': '14000', 'place': '14000'}, 'localityInfo': {'administrative': [{'name': 'United States of America (the)', 'description': 'country in North America', 'isoName': 'United States of America (the)', 'order': 2, 'adminLevel': 2, 'isoCode': 'US', 'wikidataId': 'Q30', 'geonameId': 6252001}, {'name': 'Illinois', 'description': 'state of the United States of America', 'isoName': 'Illinois', 'order': 5, 'adminLevel': 4, 'isoCode': 'US-IL', 'wikidataId': 'Q1204', 'geonameId': 4896861}, {'name': 'Chicago', 'description': 'city and county seat of Cook County, Illinois, United States of America', 'order': 6, 'adminLevel': 8, 'wikidataId': 'Q1297', 'geonameId': 4887398}, {'name': 'Cook County', 'description': 'county in Illinois, United States', 'order': 7, 'adminLevel': 6, 'wikidataId': 'Q108418', 'geonameId': 4888671}], 'informative': [{'name': 'North America', 'description': 'continent', 'isoName': 'North America', 'order': 1, 'isoCode': 'NA', 'wikidataId': 'Q49', 'geonameId': 6255149}, {'name': 'America/Chicago', 'description': 'time zone', 'order': 3}, {'name': 'Central Lowlands', 'order': 4}, {'name': '17-14000', 'description': 'FIPS code', 'order': 8}, {'name': '17-031-14000', 'description': 'FIPS code', 'order': 9}, {'name': '60604', 'description': 'postal code', 'order': 10}]}}\n",
            "API Response for (29.760427, -95.369804): {'latitude': 29.760427, 'lookupSource': 'coordinates', 'longitude': -95.369804, 'localityLanguageRequested': 'en', 'continent': 'North America', 'continentCode': 'NA', 'countryName': 'United States of America (the)', 'countryCode': 'US', 'principalSubdivision': 'Texas', 'principalSubdivisionCode': 'US-TX', 'city': 'Houston', 'locality': 'Houston', 'postcode': '77002', 'plusCode': '76X6QJ6J+53', 'fips': {'state': '48', 'county': '201', 'countySubdivision': '91835', 'place': '35000'}, 'localityInfo': {'administrative': [{'name': 'United States of America (the)', 'description': 'country in North America', 'isoName': 'United States of America (the)', 'order': 2, 'adminLevel': 2, 'isoCode': 'US', 'wikidataId': 'Q30', 'geonameId': 6252001}, {'name': 'Texas', 'description': 'state of the United States of America', 'isoName': 'Texas', 'order': 4, 'adminLevel': 4, 'isoCode': 'US-TX', 'wikidataId': 'Q1439', 'geonameId': 4736286}, {'name': 'Houston', 'description': 'city in Harris, Fort Bend, and Montgomery counties in Texas, United States, and the county seat of Harris County', 'order': 5, 'adminLevel': 8, 'wikidataId': 'Q16555', 'geonameId': 4699066}, {'name': 'Harris County', 'description': 'county in Texas, United States', 'order': 6, 'adminLevel': 6, 'wikidataId': 'Q26676', 'geonameId': 4696376}], 'informative': [{'name': 'North America', 'description': 'continent', 'isoName': 'North America', 'order': 1, 'isoCode': 'NA', 'wikidataId': 'Q49', 'geonameId': 6255149}, {'name': 'America/Chicago', 'description': 'time zone', 'order': 3}, {'name': '48-201-91835', 'description': 'FIPS code', 'order': 7}, {'name': '48-35000', 'description': 'FIPS code', 'order': 8}, {'name': '77002', 'description': 'postal code', 'order': 9}]}}\n",
            "API Response for (33.448376, -112.074036): {'latitude': 33.448376, 'lookupSource': 'coordinates', 'longitude': -112.074036, 'localityLanguageRequested': 'en', 'continent': 'North America', 'continentCode': 'NA', 'countryName': 'United States of America (the)', 'countryCode': 'US', 'principalSubdivision': 'Arizona', 'principalSubdivisionCode': 'US-AZ', 'city': 'Phoenix', 'locality': 'Phoenix', 'postcode': '85004', 'plusCode': '8559CWXG+99', 'fips': {'state': '04', 'county': '013', 'countySubdivision': '92601', 'place': '55000'}, 'localityInfo': {'administrative': [{'name': 'United States of America (the)', 'description': 'country in North America', 'isoName': 'United States of America (the)', 'order': 2, 'adminLevel': 2, 'isoCode': 'US', 'wikidataId': 'Q30', 'geonameId': 6252001}, {'name': 'Arizona', 'description': 'state of the United States of America', 'isoName': 'Arizona', 'order': 4, 'adminLevel': 4, 'isoCode': 'US-AZ', 'wikidataId': 'Q816', 'geonameId': 5551752}, {'name': 'Maricopa County', 'description': 'county in Arizona, United States', 'order': 6, 'adminLevel': 6, 'wikidataId': 'Q58691', 'geonameId': 5303754}], 'informative': [{'name': 'North America', 'description': 'continent', 'isoName': 'North America', 'order': 1, 'isoCode': 'NA', 'wikidataId': 'Q49', 'geonameId': 6255149}, {'name': 'Four Corners', 'description': 'region of the United States consisting of the southwestern corner of Colorado, northwestern corner of New Mexico, northeastern corner of Arizona and southeastern corner of Utah', 'order': 3, 'wikidataId': 'Q15672', 'geonameId': 5539379}, {'name': 'America/Phoenix', 'description': 'time zone', 'order': 5}, {'name': 'Phoenix', 'description': 'city in Maricopa County, Arizona, United States', 'order': 7, 'wikidataId': 'Q16556', 'geonameId': 5308655}, {'name': '04-013-92601', 'description': 'FIPS code', 'order': 8}, {'name': '04-55000', 'description': 'FIPS code', 'order': 9}, {'name': '85004', 'description': 'postal code', 'order': 10}]}}\n",
            "    latitude   longitude address\n",
            "0  40.712776  -74.005974        \n",
            "1  34.052235 -118.243683        \n",
            "2  41.878113  -87.629799        \n",
            "3  29.760427  -95.369804        \n",
            "4  33.448376 -112.074036        \n"
          ]
        }
      ]
    },
    {
      "cell_type": "code",
      "source": [],
      "metadata": {
        "id": "fyJNU7QB-ao1"
      },
      "execution_count": null,
      "outputs": []
    }
  ]
}